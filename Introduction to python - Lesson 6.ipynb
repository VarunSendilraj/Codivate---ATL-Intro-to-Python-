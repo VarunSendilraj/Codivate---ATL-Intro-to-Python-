{
 "cells": [
  {
   "cell_type": "markdown",
   "metadata": {},
   "source": [
    "# Lesson 6 - Dictionaries\n",
    "\n",
    "<div class=\"alert alert-block alert-info\">\n",
    "<b>©️</b> CODIVATE | ATL\n",
    "</div>\n"
   ]
  },
  {
   "cell_type": "markdown",
   "metadata": {},
   "source": [
    "Python’s dictionaries allow you to connect pieces of related information. Understanding dictionaries allows you to model a variety of real-world\n",
    "objects more accurately. You’ll be able to create a dictionary representing a person and then store as much information as you want about that\n",
    "person. You can store their name, age, location, profession, and any other\n",
    "aspect of a person you can describe. You’ll be able to store any two kinds of \n",
    "information that can be matched up, such as a list of words and their meanings, a list of people’s names and their favorite numbers, a list of mountains\n",
    "and their elevations, and so forth."
   ]
  },
  {
   "cell_type": "markdown",
   "metadata": {},
   "source": [
    "## simple dictionary"
   ]
  },
  {
   "cell_type": "markdown",
   "metadata": {},
   "source": [
    "Consider having a __dictionary that includes all of the information about the car__ like the brand year and more. This simple dictionary stores information about a particular car."
   ]
  },
  {
   "cell_type": "code",
   "execution_count": 1,
   "metadata": {},
   "outputs": [
    {
     "name": "stdout",
     "output_type": "stream",
     "text": [
      "{'brand': 'Ford', 'model': 'Mustang', 'year': 1964}\n"
     ]
    }
   ],
   "source": [
    "car_1 = {\"brand\": \"Ford\",\"model\": \"Mustang\", \"year\": 1964}\n",
    "\n",
    "\n",
    "print(car_1)"
   ]
  },
  {
   "cell_type": "code",
   "execution_count": 2,
   "metadata": {},
   "outputs": [
    {
     "name": "stdout",
     "output_type": "stream",
     "text": [
      "Ford\n"
     ]
    }
   ],
   "source": [
    "print(car_1[\"brand\"])"
   ]
  },
  {
   "cell_type": "code",
   "execution_count": 5,
   "metadata": {},
   "outputs": [
    {
     "name": "stdout",
     "output_type": "stream",
     "text": [
      "Mustang\n"
     ]
    }
   ],
   "source": [
    "print(car_1[\"model\"])"
   ]
  },
  {
   "cell_type": "markdown",
   "metadata": {},
   "source": [
    "As with most new programming concepts, using __dictionaries takes\n",
    "practice.__ Once you’ve worked with dictionaries for a bit you’ll soon see how\n",
    "effectively they can model real-world situations"
   ]
  },
  {
   "cell_type": "markdown",
   "metadata": {},
   "source": [
    "----------------"
   ]
  },
  {
   "cell_type": "markdown",
   "metadata": {},
   "source": [
    "## Working With Dictionaries"
   ]
  },
  {
   "cell_type": "markdown",
   "metadata": {},
   "source": [
    "A dictionary in Python is a __collection of key-value pairs.__ Each key is __connected\n",
    "to a value__, and you can use a key to access the value associated with that key.\n",
    "A key’s value can be a number, a string, a list, or even another dictionary.\n",
    "In fact, you can use any object that you can create in Python as a value in a\n",
    "dictionary.\n",
    "In Python, a dictionary is wrapped in braces, {}, with a series of keyvalue pairs inside the braces, as shown in the earlier example:"
   ]
  },
  {
   "cell_type": "code",
   "execution_count": 7,
   "metadata": {},
   "outputs": [],
   "source": [
    "car_1 = {\"brand\": \"Ford\",\"model\": \"Mustang\", \"year\": 1964}\n"
   ]
  },
  {
   "cell_type": "markdown",
   "metadata": {},
   "source": [
    "A __key-value pair__ is a set of values associated with each other. When you\n",
    "provide a key, Python returns the value associated with that key. Every key\n",
    "is connected to its value by a colon, and individual key-value pairs are separated by commas. You can store as many key-value pairs as you want in a\n",
    "dictionary."
   ]
  },
  {
   "cell_type": "code",
   "execution_count": 1,
   "metadata": {},
   "outputs": [
    {
     "name": "stdout",
     "output_type": "stream",
     "text": [
      "ford \n"
     ]
    }
   ],
   "source": [
    "# 1 key value pair\n",
    "\n",
    "car_1 = {'brand': 'ford '}\n",
    "\n",
    "print(car_1[\"brand\"])"
   ]
  },
  {
   "cell_type": "markdown",
   "metadata": {},
   "source": [
    "### Accessing Value in a dictionary\n",
    "\n",
    "To get the value associated with a key, give the name of the dictionary and\n",
    "then place the key inside a set of square brackets, as shown below:"
   ]
  },
  {
   "cell_type": "code",
   "execution_count": 6,
   "metadata": {},
   "outputs": [
    {
     "name": "stdout",
     "output_type": "stream",
     "text": [
      "1964\n"
     ]
    }
   ],
   "source": [
    "car_1 = {\"brand\": \"Ford\",\"model\": \"Mustang\", \"year\": 1964}\n",
    "\n",
    "\n",
    "print(car_1[\"year\"])"
   ]
  },
  {
   "cell_type": "markdown",
   "metadata": {},
   "source": [
    "This returns the value associated with the key `color` from the dictionary car_1:"
   ]
  },
  {
   "cell_type": "markdown",
   "metadata": {},
   "source": [
    "### Adding New Key-Value Pairs"
   ]
  },
  {
   "cell_type": "markdown",
   "metadata": {},
   "source": [
    "Dictionaries are dynamic structures, and you can add new key-value pairs\n",
    "to a dictionary at any time. For example, to add a new key-value pair, you\n",
    "would give the name of the dictionary followed by the new key in square\n",
    "brackets along with the new value. Look At the example below to see how its done:"
   ]
  },
  {
   "cell_type": "code",
   "execution_count": 12,
   "metadata": {},
   "outputs": [
    {
     "name": "stdout",
     "output_type": "stream",
     "text": [
      "{'brand': 'Ford', 'model': 'Mustang', 'year': 1964, 'color': 'red'}\n"
     ]
    }
   ],
   "source": [
    "car_1 = {\"brand\": \"Ford\",\"model\": \"Mustang\",\"year\": 1964}\n",
    "\n",
    "car_1[\"color\"] = \"red\"\n",
    "print(car_1)"
   ]
  },
  {
   "cell_type": "markdown",
   "metadata": {},
   "source": [
    "As you can see we were able to add a new key value pair into the existing dictionary! This is seen when we prin the new dictionary!"
   ]
  },
  {
   "cell_type": "markdown",
   "metadata": {},
   "source": [
    "And just like lists we can recreate dictonaries from scratch:"
   ]
  },
  {
   "cell_type": "code",
   "execution_count": 14,
   "metadata": {},
   "outputs": [
    {
     "name": "stdout",
     "output_type": "stream",
     "text": [
      "{'brand': 'Ford', 'model': 'Mustang', 'year': '1964', 'color': 'red'}\n"
     ]
    }
   ],
   "source": [
    "car_1 = {}\n",
    "\n",
    "\n",
    "car_1[\"brand\"] = \"Ford\"\n",
    "car_1[\"model\"] = \"Mustang\"\n",
    "car_1[\"year\"] = \"1964\"\n",
    "car_1[\"color\"] = \"red\"\n",
    "print(car_1)"
   ]
  },
  {
   "cell_type": "markdown",
   "metadata": {},
   "source": [
    "### Modifying Values in a Dictionary "
   ]
  },
  {
   "cell_type": "markdown",
   "metadata": {},
   "source": [
    "To modify a value in a dictionary, give the name of the dictionary with the\n",
    "key in square brackets and then the new value you want associated with\n",
    "that key. Look at the example below to see how its done:"
   ]
  },
  {
   "cell_type": "code",
   "execution_count": 16,
   "metadata": {},
   "outputs": [
    {
     "name": "stdout",
     "output_type": "stream",
     "text": [
      "{'brand': 'Ford', 'model': 'Mustang', 'year': 2000}\n"
     ]
    }
   ],
   "source": [
    "car_1 = {\"brand\": \"Ford\",\"model\": \"Mustang\",\"year\": 1964}\n",
    "\n",
    "car_1[\"year\"] = 2000\n",
    "print(car_1)"
   ]
  },
  {
   "cell_type": "markdown",
   "metadata": {},
   "source": [
    "Its very similar to a list! We just define the place in which we want to change and redifne the value inside of it."
   ]
  },
  {
   "cell_type": "markdown",
   "metadata": {},
   "source": [
    "### Removing Key-Value Pairs"
   ]
  },
  {
   "cell_type": "markdown",
   "metadata": {},
   "source": [
    "When you no longer need a piece of information that’s stored in a dictionary, you can use the del statement to completely remove a key-value pair.\n",
    "All del needs is the name of the dictionary and the key that you want to\n",
    "remove. Look at the example below to see how this is done"
   ]
  },
  {
   "cell_type": "code",
   "execution_count": 1,
   "metadata": {},
   "outputs": [
    {
     "name": "stdout",
     "output_type": "stream",
     "text": [
      "{'brand': 'Ford', 'model': 'Mustang'}\n"
     ]
    }
   ],
   "source": [
    "car_1 = {\n",
    "    \"brand\": \"Ford\",\n",
    "    \"model\": \"Mustang\",\n",
    "    \"year\": 1964\n",
    "}\n",
    "\n",
    "del car_1[\"year\"] \n",
    "print(car_1)"
   ]
  },
  {
   "cell_type": "markdown",
   "metadata": {},
   "source": [
    "The way to remove values from a dictionary is very similar to a list. In the example above we used a del statement to remove the year key-pair. "
   ]
  },
  {
   "cell_type": "markdown",
   "metadata": {},
   "source": [
    "__But be aware this permanatly removes the key pair__"
   ]
  },
  {
   "cell_type": "markdown",
   "metadata": {},
   "source": [
    "You can also format dictionaries in a more readable way. Look at the example belo on how to do that:\n"
   ]
  },
  {
   "cell_type": "code",
   "execution_count": 2,
   "metadata": {
    "scrolled": true
   },
   "outputs": [
    {
     "name": "stdout",
     "output_type": "stream",
     "text": [
      "Ford\n"
     ]
    }
   ],
   "source": [
    "car_1 = {\n",
    "    \"brand\": \"Ford\",\n",
    "    \"model\": \"Mustang\",\n",
    "    \"year\": 1964  \n",
    "}\n",
    "\n",
    "print(car_1[\"brand\"])\n"
   ]
  },
  {
   "cell_type": "markdown",
   "metadata": {},
   "source": [
    "### Using get() to Access Values"
   ]
  },
  {
   "cell_type": "markdown",
   "metadata": {},
   "source": [
    "Using keys in square brackets to retrieve the value you’re interested in\n",
    "from a dictionary might cause one potential problem: if the key you ask for\n",
    "doesn’t exist, you’ll get an error."
   ]
  },
  {
   "cell_type": "markdown",
   "metadata": {},
   "source": [
    "Let’s see what happens when you ask for the wheel size of the car if it isnt in the dictionary already."
   ]
  },
  {
   "cell_type": "code",
   "execution_count": 7,
   "metadata": {},
   "outputs": [
    {
     "ename": "KeyError",
     "evalue": "'wheel_size'",
     "output_type": "error",
     "traceback": [
      "\u001b[1;31m---------------------------------------------------------------------------\u001b[0m",
      "\u001b[1;31mKeyError\u001b[0m                                  Traceback (most recent call last)",
      "\u001b[1;32m<ipython-input-7-4b063035c03a>\u001b[0m in \u001b[0;36m<module>\u001b[1;34m\u001b[0m\n\u001b[0;32m      5\u001b[0m }\n\u001b[0;32m      6\u001b[0m \u001b[1;33m\u001b[0m\u001b[0m\n\u001b[1;32m----> 7\u001b[1;33m \u001b[0mprint\u001b[0m\u001b[1;33m(\u001b[0m\u001b[0mcar_1\u001b[0m\u001b[1;33m[\u001b[0m\u001b[1;34m\"wheel_size\"\u001b[0m\u001b[1;33m]\u001b[0m\u001b[1;33m)\u001b[0m\u001b[1;33m\u001b[0m\u001b[1;33m\u001b[0m\u001b[0m\n\u001b[0m",
      "\u001b[1;31mKeyError\u001b[0m: 'wheel_size'"
     ]
    }
   ],
   "source": [
    "car_1 = {\n",
    "    \"brand\": \"Ford\",\n",
    "    \"model\": \"Mustang\",\n",
    "    \"year\": 1964\n",
    "}\n",
    "\n",
    "print(car_1[\"wheel_size\"])\n"
   ]
  },
  {
   "cell_type": "markdown",
   "metadata": {},
   "source": [
    "We get an error message! But there is a way around this. For dictionaries, specifically, you can use the get() method to\n",
    "set a default value that will be returned if the requested key doesn’t exist."
   ]
  },
  {
   "cell_type": "markdown",
   "metadata": {},
   "source": [
    "The get() method requires a key as a first argument. As a second\n",
    "optional argument, you can pass the value to be returned if the key doesn’t "
   ]
  },
  {
   "cell_type": "code",
   "execution_count": 10,
   "metadata": {},
   "outputs": [
    {
     "data": {
      "text/plain": [
       "'no wheel size given'"
      ]
     },
     "execution_count": 10,
     "metadata": {},
     "output_type": "execute_result"
    }
   ],
   "source": [
    "car_1 = {\n",
    "    \"brand\": \"Ford\",\n",
    "    \"model\": \"Mustang\",\n",
    "    \"year\": 1964,\n",
    "}\n",
    "car_1.get(\"wheel_size\", 'no wheel size given')"
   ]
  },
  {
   "cell_type": "markdown",
   "metadata": {},
   "source": [
    "If the key `wheel_size` exists in the dictionary, you’ll get the corresponding value. If it doesn’t, you get the default value. In this case, wheel_size doesn’t\n",
    "exist, and we get a clean message instead of an error."
   ]
  },
  {
   "cell_type": "markdown",
   "metadata": {},
   "source": [
    "<div class=\"alert alert-block alert-success\">\n",
    "<b>Practice: </b>  Use a dictionary to store information about a person you know.\n",
    "Store their first name, last name, age, and the city in which they live. You\n",
    "should have keys such as first_name, last_name, age, and city. Print each\n",
    "piece of information stored in your dictionary.\n",
    "</div> "
   ]
  },
  {
   "cell_type": "code",
   "execution_count": 12,
   "metadata": {},
   "outputs": [],
   "source": [
    "#Practice Space\n",
    "\n",
    "\n",
    "\n"
   ]
  },
  {
   "cell_type": "markdown",
   "metadata": {},
   "source": [
    "## Looping Through a Dictionary"
   ]
  },
  {
   "cell_type": "markdown",
   "metadata": {},
   "source": [
    "A single Python dictionary can contain just a few key-value pairs or millions\n",
    "of pairs. Because a dictionary can contain large amounts of data, Python lets\n",
    "you loop through a dictionary. Dictionaries can be used to store information\n",
    "in a variety of ways; therefore, several different ways exist to loop through\n",
    "them."
   ]
  },
  {
   "cell_type": "markdown",
   "metadata": {},
   "source": [
    "### Looping Through All Key-Value Pairs"
   ]
  },
  {
   "cell_type": "markdown",
   "metadata": {},
   "source": [
    "Before we explore the different approaches to looping, let’s consider a new\n",
    "dictionary designed to store information about a user on a website."
   ]
  },
  {
   "cell_type": "code",
   "execution_count": 2,
   "metadata": {},
   "outputs": [],
   "source": [
    "user_1 = {\n",
    "    \"username\" : \"johnBush24\",\n",
    "    \"password\" : \"j8io93d\",\n",
    "    \"firstName\" :  \"John\",\n",
    "    \"lastName\" : \"Bush\"\n",
    "\n",
    "}"
   ]
  },
  {
   "cell_type": "markdown",
   "metadata": {},
   "source": [
    "You can access any single piece of information about user_0 based\n",
    "on what you’ve already learned in this chapter. But what if you wanted to\n",
    "see everything stored in this user’s dictionary? To do so, you could loop\n",
    "through the dictionary using a for loop:"
   ]
  },
  {
   "cell_type": "code",
   "execution_count": 11,
   "metadata": {},
   "outputs": [
    {
     "name": "stdout",
     "output_type": "stream",
     "text": [
      "\n",
      "Key: username\n",
      "Value: johnBush24\n",
      "\n",
      "Key: password\n",
      "Value: j8io93d\n",
      "\n",
      "Key: firstName\n",
      "Value: John\n",
      "\n",
      "Key: lastName\n",
      "Value: Bush\n"
     ]
    }
   ],
   "source": [
    "user_1 = {\n",
    "    \"username\" : \"johnBush24\",\n",
    "    \"password\" : \"j8io93d\",\n",
    "    \"firstName\" :  \"John\",\n",
    "    \"lastName\" : \"Bush\"\n",
    "\n",
    "}\n",
    "for k, v in user_1.items():\n",
    "    print(f\"\\nKey: {k}\")\n",
    "    print(f\"Value: {v}\")"
   ]
  },
  {
   "cell_type": "markdown",
   "metadata": {},
   "source": [
    "As shown, to write a for loop for a dictionary, you create names\n",
    "for the two variables that will hold the key and value in each key-value\n",
    "pair. You can choose any names you want for these two variables. This\n",
    "code would work just as well if you had used abbreviations for the variable\n",
    "names, like this: `for k, v in user_0.items()`"
   ]
  },
  {
   "cell_type": "markdown",
   "metadata": {},
   "source": [
    "The second half of the for statement includes the name of the\n",
    "dictionary followed by the method items(), which returns a list of key-value\n",
    "pairs. The for loop then assigns each of these pairs to the two variables provided. In the preceding example, we use the variables to print each key ,\n",
    "followed by the associated value. The \"\\n\" in the first print() call ensures\n",
    "that a blank line is inserted before each key-value pair in the output:"
   ]
  },
  {
   "cell_type": "markdown",
   "metadata": {},
   "source": [
    "### Looping Through All the Keys in a Dictionary"
   ]
  },
  {
   "cell_type": "markdown",
   "metadata": {},
   "source": [
    "The keys() method is useful when you don’t need to work with all of the\n",
    "values in a dictionary. Let’s loop through the user_1 dictionary\n",
    "and print the keys of the dictionary."
   ]
  },
  {
   "cell_type": "code",
   "execution_count": 25,
   "metadata": {},
   "outputs": [
    {
     "name": "stdout",
     "output_type": "stream",
     "text": [
      "Username\n",
      "Password\n",
      "Firstname\n",
      "Lastname\n"
     ]
    }
   ],
   "source": [
    " user_1 = {\n",
    "    \"username\" : \"johnBush24\",\n",
    "    \"password\" : \"j8io93d\",\n",
    "    \"firstName\" :  \"John\",\n",
    "    \"lastName\" : \"Bush\"\n",
    "\n",
    "}\n",
    "    \n",
    "for keys in user_1.keys():\n",
    "     print(keys.title())\n"
   ]
  },
  {
   "cell_type": "markdown",
   "metadata": {},
   "source": [
    "The line at u tells Python to pull all the keys from the dictionary\n",
    "user_1 and assign them one at a time to the variable name. The\n",
    "output shows all of the keys."
   ]
  },
  {
   "cell_type": "markdown",
   "metadata": {},
   "source": [
    "### Looping Through a Dictionary’s Keys in a Particular Order"
   ]
  },
  {
   "cell_type": "markdown",
   "metadata": {},
   "source": [
    "Starting in Python 3.7 and higher, looping through a dictionary returns the items in\n",
    "the same order they were inserted. Sometimes, though, you’ll want to loop\n",
    "through a dictionary in a different order.\n",
    "One way to do this is to sort the keys as they’re returned in the for loop.\n",
    "You can use the sorted() function to get a copy of the keys in order:"
   ]
  },
  {
   "cell_type": "code",
   "execution_count": 29,
   "metadata": {},
   "outputs": [
    {
     "name": "stdout",
     "output_type": "stream",
     "text": [
      "Arnav, thank you for taking the poll.\n",
      "Colin, thank you for taking the poll.\n",
      "Kanye, thank you for taking the poll.\n",
      "Kevin, thank you for taking the poll.\n",
      "Rueben, thank you for taking the poll.\n"
     ]
    }
   ],
   "source": [
    "studentSports= {\n",
    "    \"kanye\" : \"basketball\",\n",
    "    \"kevin\" : \"track and feild\",\n",
    "    \"colin\" : \"Cross Country\",\n",
    "    \"rueben\" : \"tennis\",\n",
    "    \"arnav\" : \"golf\"\n",
    "}\n",
    "\n",
    "for name in sorted(studentSports.keys()):\n",
    "    print(f\"{name.title()}, thank you for taking the poll.\")\n"
   ]
  },
  {
   "cell_type": "markdown",
   "metadata": {},
   "source": [
    "This for statement is like other for statements except that we’ve\n",
    "wrapped the sorted() function around the dictionary.keys() method. This\n",
    "tells Python to list all keys in the dictionary and sort that list before looping\n",
    "through it. "
   ]
  },
  {
   "cell_type": "markdown",
   "metadata": {},
   "source": [
    "### Looping Through All Values in a Dictionary"
   ]
  },
  {
   "cell_type": "markdown",
   "metadata": {},
   "source": [
    "If you are primarily interested in the values that a dictionary contains,\n",
    "you can use the values() method to return a list of values without any keys.\n",
    "For example, say we simply want to display all of the sports syidents play with out the persons name in it. Look at the example below:"
   ]
  },
  {
   "cell_type": "code",
   "execution_count": 32,
   "metadata": {},
   "outputs": [
    {
     "name": "stdout",
     "output_type": "stream",
     "text": [
      "Cross Country, is played\n",
      "Basketball, is played\n",
      "Golf, is played\n",
      "Tennis, is played\n",
      "Track And Feild, is played\n"
     ]
    }
   ],
   "source": [
    "studentSports= {\n",
    "    \"kanye\" : \"basketball\",\n",
    "    \"kevin\" : \"track and feild\",\n",
    "    \"colin\" : \"Cross Country\",\n",
    "    \"rueben\" : \"tennis\",\n",
    "    \"arnav\" : \"golf\"\n",
    "}\n",
    "\n",
    "for sports in sorted(studentSports.values()):\n",
    "    print(f\"{sports.title()}, is played\")\n"
   ]
  },
  {
   "cell_type": "markdown",
   "metadata": {},
   "source": [
    "<div class=\"alert alert-block alert-success\">\n",
    "<b>Practice: </b>  Make a dictionary containing three major rivers and the country\n",
    "each river runs through. One key-value pair might be 'nile': 'egypt'.\n",
    "\n",
    "- Use a loop to print a sentence about each river, such as The Nile runsthrough Egypt\n",
    "- Use a loop to print the name of each river included in the dictionary\n",
    "- Use a loop to print the name of each country included in the dictionary\n",
    "</div> "
   ]
  },
  {
   "cell_type": "code",
   "execution_count": null,
   "metadata": {},
   "outputs": [],
   "source": [
    "#practice here\n",
    "\n",
    "\n",
    "\n",
    "\n"
   ]
  },
  {
   "cell_type": "markdown",
   "metadata": {},
   "source": [
    "## Nesting"
   ]
  },
  {
   "cell_type": "markdown",
   "metadata": {},
   "source": [
    "Sometimes you’ll want to store multiple dictionaries in a list, or a list of\n",
    "items as a value in a dictionary. This is called nesting. You can nest dictionaries inside a list, a list of items inside a dictionary, or even a dictionary inside\n",
    "another dictionary."
   ]
  },
  {
   "cell_type": "markdown",
   "metadata": {},
   "source": [
    "###  A list of dictionaires"
   ]
  },
  {
   "cell_type": "markdown",
   "metadata": {},
   "source": [
    "If we take our list above about car_1, it only stored values of one car. How do we store multiple cars and have a group or fleet of cars?. One way is to create a list of cars of information about the cars. Look at the example below to see how its done:"
   ]
  },
  {
   "cell_type": "code",
   "execution_count": 36,
   "metadata": {},
   "outputs": [
    {
     "name": "stdout",
     "output_type": "stream",
     "text": [
      "{'brand': 'Ford', 'model': 'Mustang', 'year': 1964}\n",
      "{'brand': 'Telsa', 'model': 'Model-x', 'year': 2018}\n",
      "{'brand': 'toyota', 'model': 'camery', 'year': 2003}\n"
     ]
    }
   ],
   "source": [
    "car_1 = {\"brand\": \"Ford\",\"model\": \"Mustang\", \"year\": 1964}\n",
    "car_2 = {\"brand\": \"Telsa\",\"model\": \"Model-x\", \"year\": 2018}\n",
    "car_3 = {\"brand\": \"toyota\",\"model\": \"camery\", \"year\": 2003}\n",
    "\n",
    "cars = [car_1, car_2, car_3]\n",
    "\n",
    "for eachCar in cars:\n",
    "    print(eachCar)\n",
    "\n"
   ]
  },
  {
   "cell_type": "markdown",
   "metadata": {},
   "source": [
    "### A List in a Dictionary"
   ]
  },
  {
   "cell_type": "markdown",
   "metadata": {},
   "source": [
    "Rather than putting a dictionary inside a list, it’s sometimes useful to put\n",
    "a list inside a dictionary. For example, consider how you might describe a\n",
    "pizza that someone is ordering. If you were to use only a list, all you could\n",
    "really store is a list of the pizza’s toppings. With a dictionary, a list of toppings can be just one aspect of the pizza you’re describing"
   ]
  },
  {
   "cell_type": "code",
   "execution_count": 12,
   "metadata": {},
   "outputs": [
    {
     "name": "stdout",
     "output_type": "stream",
     "text": [
      "You ordered a thick crust pizza with the following toppings:\n",
      "\tmushrooms\n",
      "\textra cheese\n"
     ]
    }
   ],
   "source": [
    "pizza = {\n",
    " 'crust': 'thick',\n",
    " 'toppings': ['mushrooms', 'extra cheese'],\n",
    " }\n",
    "\n",
    "print(\"You ordered a \"+ pizza['crust']+\" crust pizza with the following toppings:\")\n",
    "for topping in pizza['toppings']:\n",
    "    print(\"\\t\" + topping)"
   ]
  },
  {
   "cell_type": "markdown",
   "metadata": {},
   "source": [
    " One key in the dictionary is `crust`, and\n",
    "the associated value is the string `thick`."
   ]
  },
  {
   "cell_type": "markdown",
   "metadata": {},
   "source": [
    " To access the list of\n",
    "toppings, we use the key 'toppings', and Python grabs the list of toppings\n",
    "from the dictionary.\n",
    "The following output summarizes the pizza that we plan to build:"
   ]
  },
  {
   "cell_type": "markdown",
   "metadata": {},
   "source": [
    "### A Dictionary in a Dictionary"
   ]
  },
  {
   "cell_type": "markdown",
   "metadata": {},
   "source": [
    "You can nest a dictionary inside another dictionary, but your code can get\n",
    "complicated quickly when you do. For example, if you have several users\n",
    "for a website, each with a unique username, you can use the usernames as\n",
    "the keys in a dictionary. You can then store information about each user by\n",
    "using a dictionary as the value associated with their username. In the following listing, we store three pieces of information about each user: their\n",
    "first name, last name, and location. We’ll access this information by looping\n",
    "through the usernames and the dictionary of information associated with\n",
    "each username:"
   ]
  },
  {
   "cell_type": "code",
   "execution_count": 48,
   "metadata": {},
   "outputs": [],
   "source": [
    "users = {\n",
    " 'aeinstein': {\n",
    " 'first': 'albert',\n",
    " 'last': 'einstein',\n",
    " 'location': 'princeton',\n",
    " },\n",
    " 'mcurie': {\n",
    " 'first': 'marie',\n",
    " 'last': 'curie',\n",
    " 'location': 'paris',\n",
    " },\n",
    " }"
   ]
  },
  {
   "cell_type": "code",
   "execution_count": 49,
   "metadata": {},
   "outputs": [
    {
     "name": "stdout",
     "output_type": "stream",
     "text": [
      "\n",
      "Username: aeinstein\n",
      "\tFull name: Albert Einstein\n",
      "\tLocation: Princeton\n",
      "\n",
      "Username: mcurie\n",
      "\tFull name: Marie Curie\n",
      "\tLocation: Paris\n"
     ]
    }
   ],
   "source": [
    "for username, user_info in users.items():\n",
    "    print(f\"\\nUsername: {username}\")\n",
    "    full_name = f\"{user_info['first']} {user_info['last']}\"\n",
    "    location = user_info['location']\n",
    "    \n",
    "    print(f\"\\tFull name: {full_name.title()}\")\n",
    "    print(f\"\\tLocation: {location.title()}\")"
   ]
  },
  {
   "cell_type": "markdown",
   "metadata": {},
   "source": [
    "We first define a dictionary called users with two keys: one each for the\n",
    "usernames 'aeinstein' and 'mcurie'. The value associated with each key is a\n",
    "dictionary that includes each user’s first name, last name, and location.\n",
    "We loop through the users dictionary. Python assigns each key to the variable\n",
    "username, and the dictionary associated with each username is assigned to the\n",
    "variable user_info. Once inside the main dictionary loop, we print the username.\n",
    "We start accessing the inner dictionary. The variable user_info,\n",
    "which contains the dictionary of user information, has three keys: 'first',\n",
    "'last', and 'location'. We use each key to generate a neatly formatted full\n",
    "name and location for each person, and then print a summary of what we\n",
    "know about each user"
   ]
  },
  {
   "cell_type": "markdown",
   "metadata": {},
   "source": [
    "<div class=\"alert alert-block alert-success\">\n",
    "<b>Practice: </b> Make several dictionaries, where each dictionary represents a different pet. In each dictionary, include the kind of animal and the owner’s name.\n",
    "Store these dictionaries in a list called pets. Next, loop through your list and as\n",
    "you do, print everything you know about each pet.\n",
    "\n",
    "</div> "
   ]
  },
  {
   "cell_type": "code",
   "execution_count": 50,
   "metadata": {},
   "outputs": [],
   "source": [
    "# practice here\n",
    "\n",
    "\n",
    "\n",
    "\n",
    "\n",
    "\n",
    "\n"
   ]
  }
 ],
 "metadata": {
  "kernelspec": {
   "display_name": "Python 3",
   "language": "python",
   "name": "python3"
  },
  "language_info": {
   "codemirror_mode": {
    "name": "ipython",
    "version": 3
   },
   "file_extension": ".py",
   "mimetype": "text/x-python",
   "name": "python",
   "nbconvert_exporter": "python",
   "pygments_lexer": "ipython3",
   "version": "3.7.4"
  }
 },
 "nbformat": 4,
 "nbformat_minor": 2
}
