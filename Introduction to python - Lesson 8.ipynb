{
 "cells": [
  {
   "cell_type": "markdown",
   "metadata": {},
   "source": [
    "# Lesson 7 - Functions\n",
    "\n",
    "<div class=\"alert alert-block alert-info\">\n",
    "<b>©️</b> CODIVATE | ATL\n",
    "</div>\n"
   ]
  },
  {
   "cell_type": "markdown",
   "metadata": {},
   "source": [
    "----"
   ]
  },
  {
   "cell_type": "markdown",
   "metadata": {},
   "source": [
    "__What we will go over__\n",
    "- Defining Functions \n",
    "- Passing Arguments\n",
    "- Returning Values\n",
    "\n",
    "\n"
   ]
  },
  {
   "cell_type": "markdown",
   "metadata": {},
   "source": [
    "----"
   ]
  },
  {
   "cell_type": "markdown",
   "metadata": {},
   "source": [
    "In this lesson you’ll learn to write\n",
    "functions, which are __named blocks of code\n",
    "that are designed to do one specific job.__\n",
    "When you want to perform a particular task\n",
    "that you’ve defined in a function, you call the function\n",
    "responsible for it.You’ll find that using functions makes your programs __easier to\n",
    "write, read, test, and fix.__"
   ]
  },
  {
   "cell_type": "markdown",
   "metadata": {},
   "source": [
    "## Defining a Function"
   ]
  },
  {
   "cell_type": "code",
   "execution_count": 1,
   "metadata": {},
   "outputs": [],
   "source": [
    "def greet_user():\n",
    "\n",
    "    #greeting text \n",
    "    print(\"Hello!\")"
   ]
  },
  {
   "cell_type": "code",
   "execution_count": 2,
   "metadata": {},
   "outputs": [
    {
     "name": "stdout",
     "output_type": "stream",
     "text": [
      "Hello!\n"
     ]
    }
   ],
   "source": [
    "greet_user()"
   ]
  },
  {
   "cell_type": "markdown",
   "metadata": {},
   "source": [
    "The Example above shows how to write a very simple function. We start of by using the keyword def to __\"define\"__ the function. When you define a function you tell python the name of the function and the nessasary parameters to run the functions. Parameters are held in the parenthasis. Since the above function does not need any parameters to run we did not include any. To end the definition we incude a colon `:`."
   ]
  },
  {
   "cell_type": "markdown",
   "metadata": {},
   "source": [
    "Any indented lines that follow `def greet_user():` make up the body of\n",
    "the function. The line print(\"Hello!\")  is the only line of actual code in the body\n",
    "of this function, so greet_user() has just one job: print(\"Hello!\")."
   ]
  },
  {
   "cell_type": "markdown",
   "metadata": {},
   "source": [
    "When you want to use this function, you call it. A function call tells\n",
    "Python to execute the code in the function. To call a function, you write\n",
    "the name of the function, followed by any necessary information in parentheses"
   ]
  },
  {
   "cell_type": "markdown",
   "metadata": {},
   "source": [
    "Because no information is needed here, calling our\n",
    "function is as simple as entering greet_user(). As expected, it prints Hello!:\n"
   ]
  },
  {
   "cell_type": "markdown",
   "metadata": {},
   "source": [
    "### Passing Information to a Function"
   ]
  },
  {
   "cell_type": "markdown",
   "metadata": {},
   "source": [
    "Modified slightly, the function greet_user() can not only tell the user Hello!\n",
    "but also greet them by name. For the function to do this, you enter username\n",
    "in the parentheses of the function’s definition at def greet_user(). By adding username here you allow the function to accept any value of username you\n",
    "specify. The function now expects you to provide a value for username each\n",
    "time you call it. When you call greet_user(), you can pass it a name, such as\n",
    "'jesse', inside the parentheses:"
   ]
  },
  {
   "cell_type": "code",
   "execution_count": 3,
   "metadata": {},
   "outputs": [],
   "source": [
    "def greet_user(username):\n",
    "    #Generated Text\n",
    "    \n",
    "    print(f\"Hello, {username.title()}!\")"
   ]
  },
  {
   "cell_type": "code",
   "execution_count": 5,
   "metadata": {},
   "outputs": [
    {
     "name": "stdout",
     "output_type": "stream",
     "text": [
      "Hello, Rick!\n"
     ]
    }
   ],
   "source": [
    "greet_user(\"rick\")"
   ]
  },
  {
   "cell_type": "markdown",
   "metadata": {},
   "source": [
    "Entering `greet_user('danny')` calls greet_user() and gives the function the\n",
    "information it needs to execute the print() call. The function accepts the\n",
    "name you passed it and displays the greeting for that name"
   ]
  },
  {
   "cell_type": "markdown",
   "metadata": {},
   "source": [
    "### Arguments and Parameters"
   ]
  },
  {
   "cell_type": "markdown",
   "metadata": {},
   "source": [
    "In the preceding greet_user() function, we defined `greet_user()` to require a\n",
    "value for the variable username. Once we called the function and gave it the\n",
    "information (a person’s name), it printed the right greeting.\n",
    "The variable username in the definition of `greet_user()` is an example of a\n",
    "parameter, a piece of information the function needs to do its job. The value\n",
    "'danny' in `greet_user('danny')` __is an example of an argument.__ An argument\n",
    "is a __piece of information that’s passed from a function call to a function.__\n",
    "When we call the function, we place the value we want the function to work\n",
    "with in parentheses. In this case the argument 'danny' was passed to the\n",
    "function greet_user(), and the value was assigned to the parameter username."
   ]
  },
  {
   "cell_type": "markdown",
   "metadata": {},
   "source": [
    "<div class=\"alert alert-block alert-success\">\n",
    "<b>Practice: </b> Write a function called favorite_book() that accepts one\n",
    "parameter, title. The function should print a message, such as One of my\n",
    "favorite books is Alice in Wonderland. Call the function, making sure to\n",
    "include a book title as an argument in the function call.\n",
    "</div> "
   ]
  },
  {
   "cell_type": "markdown",
   "metadata": {},
   "source": [
    "## Passing Arguments"
   ]
  },
  {
   "cell_type": "markdown",
   "metadata": {},
   "source": [
    "Because a function definition can have multiple parameters, a function call\n",
    "may need multiple arguments. You can pass arguments to your functions\n",
    "in a number of ways. You can use positional arguments, which need to be in \n",
    "the same order the parameters were written; keyword arguments, where each\n",
    "argument consists of a variable name and a value; and lists and dictionaries\n",
    "of values. Let’s look at each of these in turn."
   ]
  },
  {
   "cell_type": "markdown",
   "metadata": {},
   "source": [
    "### Positional Arguments"
   ]
  },
  {
   "cell_type": "markdown",
   "metadata": {},
   "source": [
    "When you call a function, Python must match each argument in the function call with a parameter in the function definition. The simplest way to\n",
    "do this is based on the order of the arguments provided. Values matched\n",
    "up this way are called positional arguments.\n",
    "To see how this works, consider a function that displays information\n",
    "about pets. The function tells us what kind of animal each pet is and the\n",
    "pet’s name, as shown here:"
   ]
  },
  {
   "cell_type": "code",
   "execution_count": 7,
   "metadata": {},
   "outputs": [],
   "source": [
    "def describe_pet(animal_type, pet_name):\n",
    " #Display information about a pet\n",
    "\n",
    "    print(f\"\\nI have a {animal_type}.\")\n",
    "    print(f\"My {animal_type}'s name is {pet_name.title()}.\")"
   ]
  },
  {
   "cell_type": "code",
   "execution_count": 9,
   "metadata": {},
   "outputs": [
    {
     "name": "stdout",
     "output_type": "stream",
     "text": [
      "\n",
      "I have a harry .\n",
      "My harry 's name is Hamster.\n"
     ]
    }
   ],
   "source": [
    "describe_pet('harry ', 'hamster')"
   ]
  },
  {
   "cell_type": "markdown",
   "metadata": {},
   "source": [
    "The definition shows that this function needs a type of animal and the\n",
    "animal’s name u. When we call describe_pet(), we need to provide an animal type and a name, in that order. For example, in the function call, the\n",
    "argument 'hamster' is assigned to the parameter animal_type and the argument 'harry' is assigned to the parameter pet_name. In the function body,\n",
    "these two parameters are used to display information about the pet being\n",
    "described."
   ]
  },
  {
   "cell_type": "markdown",
   "metadata": {},
   "source": [
    "### Multiple Function Calls"
   ]
  },
  {
   "cell_type": "markdown",
   "metadata": {},
   "source": [
    "You can call a function as many times as needed. Describing a second, different pet requires just one more call to `describe_pet()`:"
   ]
  },
  {
   "cell_type": "code",
   "execution_count": 10,
   "metadata": {},
   "outputs": [],
   "source": [
    "def describe_pet(animal_type, pet_name):\n",
    " #Display information about a pet\n",
    "\n",
    "    print(f\"\\nI have a {animal_type}.\")\n",
    "    print(f\"My {animal_type}'s name is {pet_name.title()}.\")"
   ]
  },
  {
   "cell_type": "code",
   "execution_count": 11,
   "metadata": {},
   "outputs": [
    {
     "name": "stdout",
     "output_type": "stream",
     "text": [
      "\n",
      "I have a hamster.\n",
      "My hamster's name is Harry.\n"
     ]
    }
   ],
   "source": [
    "describe_pet('hamster', 'harry')"
   ]
  },
  {
   "cell_type": "code",
   "execution_count": 12,
   "metadata": {},
   "outputs": [
    {
     "name": "stdout",
     "output_type": "stream",
     "text": [
      "\n",
      "I have a dog.\n",
      "My dog's name is Cookie.\n"
     ]
    }
   ],
   "source": [
    "describe_pet('dog', 'cookie')"
   ]
  },
  {
   "cell_type": "markdown",
   "metadata": {},
   "source": [
    "Calling a function multiple times is a very efficient way to work. The\n",
    "code describing a pet is written once in the function. Then, anytime you\n",
    "want to describe a new pet, you call the function with the new pet’s information. Even if the code for describing a pet were to expand to ten lines,\n",
    "you could still describe a new pet in just one line by calling the function\n",
    "again."
   ]
  },
  {
   "cell_type": "markdown",
   "metadata": {},
   "source": [
    "You can use as many positional arguments as you need in your functions. Python works through the arguments you provide when calling the\n",
    "function and matches each one with the corresponding parameter in\n",
    "the function’s definition."
   ]
  },
  {
   "cell_type": "markdown",
   "metadata": {},
   "source": [
    "### Keyword Arguments"
   ]
  },
  {
   "cell_type": "markdown",
   "metadata": {},
   "source": [
    "A keyword argument is a name-value pair that you pass to a function. You\n",
    "directly associate the name and the value within the argument, so when you\n",
    "pass the argument to the function, there’s no confusion.Keyword arguments free you from having\n",
    "to worry about correctly ordering your arguments in the function call, and\n",
    "they clarify the role of each value in the function call."
   ]
  },
  {
   "cell_type": "code",
   "execution_count": 13,
   "metadata": {},
   "outputs": [
    {
     "name": "stdout",
     "output_type": "stream",
     "text": [
      "\n",
      "I have a hamster.\n",
      "My hamster's name is Harry .\n"
     ]
    }
   ],
   "source": [
    "describe_pet(pet_name='harry ', animal_type='hamster')"
   ]
  },
  {
   "cell_type": "markdown",
   "metadata": {},
   "source": [
    "### Default Values"
   ]
  },
  {
   "cell_type": "markdown",
   "metadata": {},
   "source": [
    "When writing a function, you can define a default value for each parameter.\n",
    "If an argument for a parameter is provided in the function call, Python uses\n",
    "the argument value. If not, it uses the parameter’s default value. So when\n",
    "you define a default value for a parameter, you can exclude the corresponding argument you’d usually write in the function call. Using default values\n",
    "can simplify your function calls and clarify the ways in which your functions\n",
    "are typically used."
   ]
  },
  {
   "cell_type": "code",
   "execution_count": 14,
   "metadata": {},
   "outputs": [],
   "source": [
    "def describe_pet(pet_name, animal_type='dog'):\n",
    "    print(f\"\\nI have a {animal_type}.\")\n",
    "    print(f\"My {animal_type}'s name is {pet_name.title()}.\")"
   ]
  },
  {
   "cell_type": "code",
   "execution_count": 15,
   "metadata": {},
   "outputs": [
    {
     "name": "stdout",
     "output_type": "stream",
     "text": [
      "\n",
      "I have a dog.\n",
      "My dog's name is Willie.\n"
     ]
    }
   ],
   "source": [
    " describe_pet(pet_name='willie')"
   ]
  },
  {
   "cell_type": "markdown",
   "metadata": {},
   "source": [
    "To describe an animal other than a dog, you could use a function call\n",
    "like this:"
   ]
  },
  {
   "cell_type": "code",
   "execution_count": 16,
   "metadata": {},
   "outputs": [
    {
     "name": "stdout",
     "output_type": "stream",
     "text": [
      "\n",
      "I have a hamster.\n",
      "My hamster's name is Harry.\n"
     ]
    }
   ],
   "source": [
    "describe_pet(pet_name='harry', animal_type='hamster')"
   ]
  },
  {
   "cell_type": "markdown",
   "metadata": {},
   "source": [
    "Because an explicit argument for animal_type is provided, Python will\n",
    "ignore the parameter’s default value"
   ]
  },
  {
   "cell_type": "markdown",
   "metadata": {},
   "source": [
    "<div class=\"alert alert-block alert-success\">\n",
    "<b>Practice: </b>8-5. Cities: Write a function called describe_city() that accepts the name of\n",
    "a city and its country. The function should print a simple sentence, such as\n",
    "Reykjavik is in Iceland. Give the parameter for the country a default value.\n",
    "Call your function for three different cities, at least one of which is not in the\n",
    "default country.\n",
    "</div> "
   ]
  },
  {
   "cell_type": "markdown",
   "metadata": {},
   "source": [
    "## Return Values"
   ]
  },
  {
   "cell_type": "markdown",
   "metadata": {},
   "source": [
    "A function doesn’t always have to display its output directly. Instead, it can\n",
    "process some data and then return a value or set of values. The value the\n",
    "function returns is called a return value. The return statement takes a value\n",
    "from inside a function and sends it back to the line that called the function.\n",
    "Return values allow you to move much of your program’s grunt work into\n",
    "functions, which can simplify the body of your program."
   ]
  },
  {
   "cell_type": "markdown",
   "metadata": {},
   "source": [
    "### Returning a Simple Value"
   ]
  },
  {
   "cell_type": "code",
   "execution_count": 21,
   "metadata": {},
   "outputs": [],
   "source": [
    "def get_formatted_name(first_name, last_name):\n",
    "    full_name = f\"{first_name} {last_name}\"\n",
    "    return full_name.title()\n",
    "    print(\"name\")"
   ]
  },
  {
   "cell_type": "code",
   "execution_count": 22,
   "metadata": {},
   "outputs": [
    {
     "name": "stdout",
     "output_type": "stream",
     "text": [
      "Jimi Hendrix\n"
     ]
    }
   ],
   "source": [
    "musician = get_formatted_name('jimi', 'hendrix')\n",
    "print(musician)"
   ]
  },
  {
   "cell_type": "markdown",
   "metadata": {},
   "source": [
    "The definition of `get_formatted_name()` takes as parameters a first and last\n",
    "name. The function combines these two names, adds a space between\n",
    "them, and assigns the result to full_name. The value of full_name is converted to title case, and then returned to the calling line."
   ]
  },
  {
   "cell_type": "markdown",
   "metadata": {},
   "source": [
    "### Making an Argument Optional"
   ]
  },
  {
   "cell_type": "markdown",
   "metadata": {},
   "source": [
    "Sometimes it makes sense to make an argument optional so that people\n",
    "using the function can choose to provide extra information only if they\n",
    "want to. You can use default values to make an argument optional."
   ]
  },
  {
   "cell_type": "code",
   "execution_count": 24,
   "metadata": {},
   "outputs": [],
   "source": [
    "def get_formatted_name(first_name, last_name, middle_name=''):\n",
    "    if middle_name:\n",
    "        full_name = f\"{first_name} {middle_name} {last_name}\"\n",
    "    else:\n",
    "        full_name = f\"{first_name} {last_name}\"\n",
    "    \n",
    "    return full_name.title()"
   ]
  },
  {
   "cell_type": "code",
   "execution_count": 25,
   "metadata": {},
   "outputs": [
    {
     "name": "stdout",
     "output_type": "stream",
     "text": [
      "Jimi Hendrix\n",
      "John Lee Hooker\n"
     ]
    }
   ],
   "source": [
    "musician = get_formatted_name('jimi', 'hendrix')\n",
    "print(musician)\n",
    "musician = get_formatted_name('john', 'hooker', 'lee')\n",
    "print(musician)"
   ]
  },
  {
   "cell_type": "markdown",
   "metadata": {},
   "source": [
    "In this example, the name is built from three possible parts. Because\n",
    "there’s always a first and last name, these parameters are listed first in the\n",
    "function’s definition. The middle name is optional, so it’s listed last in the\n",
    "definition, and its default value is an empty string ."
   ]
  },
  {
   "cell_type": "markdown",
   "metadata": {},
   "source": [
    "In the body of the function, we check to see if a middle name has been\n",
    "provided. Python interprets non-empty strings as True, so if middle_name evaluates to True if a middle name argument is in the function call. If a middle\n",
    "name is provided, the first, middle, and last names are combined to form a\n",
    "full name. This name is then changed to title case and returned to the function call line where it’s assigned to the variable musician and printed. If no\n",
    "middle name is provided, the empty string fails the if test and the else block\n",
    "runs. The full name is made with just a first and last name, and the formatted name is returned to the calling line where it’s assigned to musician and\n",
    "printed."
   ]
  },
  {
   "cell_type": "markdown",
   "metadata": {},
   "source": [
    "<div class=\"alert alert-block alert-success\">\n",
    "<b>Practice: </b>   City Names: Write a function called city_country() that takes in the name\n",
    "of a city and its country. The function should return a string formatted like this:\n",
    "\n",
    "- `\"Santiago, Chile\"`\n",
    "</div> "
   ]
  },
  {
   "cell_type": "markdown",
   "metadata": {},
   "source": [
    "### Passing an Arbitrary Number of Arguments"
   ]
  },
  {
   "cell_type": "markdown",
   "metadata": {},
   "source": [
    "Sometimes you won’t know ahead of time how many arguments a function\n",
    "needs to accept. Fortunately, Python allows a function to collect an arbitrary number of arguments from the calling statement.\n",
    "For example, consider a function that builds a pizza. It needs to accept a\n",
    "number of toppings, but you can’t know ahead of time how many toppings\n",
    "a person will want. The function in the following example has one parameter, *toppings, but this parameter collects as many arguments as the calling\n",
    "line provides:"
   ]
  },
  {
   "cell_type": "markdown",
   "metadata": {},
   "source": [
    "For example, consider a function that builds a pizza. It needs to accept a\n",
    "number of toppings, but you can’t know ahead of time how many toppings\n",
    "a person will want. The function in the following example has one parameter, *toppings, but this parameter collects as many arguments as the calling\n",
    "line provides:"
   ]
  },
  {
   "cell_type": "code",
   "execution_count": 26,
   "metadata": {},
   "outputs": [],
   "source": [
    "def make_pizza(*toppings):\n",
    "    print(toppings)\n",
    "\n"
   ]
  },
  {
   "cell_type": "code",
   "execution_count": 27,
   "metadata": {},
   "outputs": [
    {
     "name": "stdout",
     "output_type": "stream",
     "text": [
      "('pepperoni',)\n",
      "('mushrooms', 'green peppers', 'extra cheese')\n"
     ]
    }
   ],
   "source": [
    "make_pizza('pepperoni')\n",
    "make_pizza('mushrooms', 'green peppers', 'extra cheese')"
   ]
  },
  {
   "cell_type": "markdown",
   "metadata": {},
   "source": [
    "The asterisk in the parameter name *toppings tells Python to make an\n",
    "empty tuple called toppings and pack whatever values it receives into this\n",
    "tuple. The print() call in the function body produces output showing that\n",
    "Python can handle a function call with one value and a call with three\n",
    "values. It treats the different calls similarly. Note that Python packs the\n",
    "arguments into a tuple, even if the function receives only one value."
   ]
  },
  {
   "cell_type": "markdown",
   "metadata": {},
   "source": [
    "Now we can replace the print() call with a loop that runs through the\n",
    "list of toppings and describes the pizza being ordered:"
   ]
  },
  {
   "cell_type": "code",
   "execution_count": 28,
   "metadata": {},
   "outputs": [],
   "source": [
    "def make_pizza(*toppings):\n",
    "    print(\"\\nMaking a pizza with the following toppings:\")\n",
    "    for topping in toppings:\n",
    "        print(f\"- {topping}\")"
   ]
  },
  {
   "cell_type": "code",
   "execution_count": 29,
   "metadata": {},
   "outputs": [
    {
     "name": "stdout",
     "output_type": "stream",
     "text": [
      "\n",
      "Making a pizza with the following toppings:\n",
      "- pepperoni\n",
      "\n",
      "Making a pizza with the following toppings:\n",
      "- mushrooms\n",
      "- green peppers\n",
      "- extra cheese\n"
     ]
    }
   ],
   "source": [
    "make_pizza('pepperoni')\n",
    "make_pizza('mushrooms', 'green peppers', 'extra cheese')"
   ]
  },
  {
   "cell_type": "markdown",
   "metadata": {},
   "source": [
    "<div class=\"alert alert-block alert-success\">\n",
    "<b>Practice: </b>   Sandwiches: Write a function that accepts a list of items a person wants\n",
    "on a sandwich. The function should have one parameter that collects as many\n",
    "items as the function call provides, and it should print a summary of the sandwich that’s being ordered. Call the function three times, using a different number of arguments each time.\n",
    "\n",
    "</div> "
   ]
  }
 ],
 "metadata": {
  "kernelspec": {
   "display_name": "Python 3",
   "language": "python",
   "name": "python3"
  },
  "language_info": {
   "codemirror_mode": {
    "name": "ipython",
    "version": 3
   },
   "file_extension": ".py",
   "mimetype": "text/x-python",
   "name": "python",
   "nbconvert_exporter": "python",
   "pygments_lexer": "ipython3",
   "version": "3.7.4"
  }
 },
 "nbformat": 4,
 "nbformat_minor": 2
}
