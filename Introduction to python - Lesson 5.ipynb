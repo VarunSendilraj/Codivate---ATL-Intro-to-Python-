{
 "cells": [
  {
   "cell_type": "markdown",
   "metadata": {},
   "source": [
    "# Lesson 5 - IF statements \n",
    "\n",
    "<div class=\"alert alert-block alert-info\">\n",
    "<b>©️</b> CODIVATE | ATL\n",
    "</div>\n"
   ]
  },
  {
   "cell_type": "markdown",
   "metadata": {},
   "source": [
    "-------------------------"
   ]
  },
  {
   "cell_type": "markdown",
   "metadata": {},
   "source": [
    "__What we will go over__\n",
    "- lists\n",
    "- list methods"
   ]
  },
  {
   "cell_type": "markdown",
   "metadata": {},
   "source": [
    "--------------------------------------------------------------"
   ]
  },
  {
   "cell_type": "markdown",
   "metadata": {},
   "source": [
    "## Introduction to If Statements"
   ]
  },
  {
   "cell_type": "markdown",
   "metadata": {},
   "source": [
    "Programming often involves examining\n",
    "a set of conditions and deciding which\n",
    "action to take based on those conditions.\n",
    "Python’s if statement allows you to examine the\n",
    "current state of a program and respond appropriately\n",
    "to that state."
   ]
  },
  {
   "cell_type": "markdown",
   "metadata": {},
   "source": [
    "So look at th example below:"
   ]
  },
  {
   "cell_type": "code",
   "execution_count": 17,
   "metadata": {},
   "outputs": [
    {
     "name": "stdout",
     "output_type": "stream",
     "text": [
      "[2, 4, 6, 8, 10, 12, 14, 16, 18, 20]\n"
     ]
    }
   ],
   "source": [
    "#list of numbers\n",
    "num = list(range(1,21))\n",
    "\n",
    "#empty list\n",
    "divisible_2 = []\n",
    "\n",
    "#if num in list is divisible by 2, append\n",
    "for i in num:\n",
    "    if i%2 == 0:\n",
    "        divisible_2.append(i)\n",
    "        \n",
    "print(divisible_2)\n",
    "\n"
   ]
  },
  {
   "cell_type": "markdown",
   "metadata": {},
   "source": [
    "Here is a more __advanced way__ of writting the same code above"
   ]
  },
  {
   "cell_type": "code",
   "execution_count": 4,
   "metadata": {},
   "outputs": [
    {
     "name": "stdout",
     "output_type": "stream",
     "text": [
      "[2, 4, 6, 8, 10, 12, 14, 16, 18, 20]\n"
     ]
    }
   ],
   "source": [
    "#list of numbers\n",
    "num = list(range(1,21))\n",
    "\n",
    "#list comprehension\n",
    "divisible_2 = [i for i in num if i%2 == 0]\n",
    "\n",
    "print(divisible_2)\n",
    "\n"
   ]
  },
  {
   "cell_type": "markdown",
   "metadata": {},
   "source": [
    "Well the example above shoes you how __if statements__ can be used in coding or every day operations. If you dont understand if statements yet __dont worry__. We'll go over it step by step in the examples in the next few sections."
   ]
  },
  {
   "cell_type": "markdown",
   "metadata": {},
   "source": [
    "-------------"
   ]
  },
  {
   "cell_type": "markdown",
   "metadata": {},
   "source": [
    "## Conditional Tests\n"
   ]
  },
  {
   "cell_type": "markdown",
   "metadata": {},
   "source": [
    "At the heart of every if statement is an expression that __can be evaluated as\n",
    "True or False__ and is called a __conditional test__. Python uses the values True and\n",
    "False __to decide whether the code in an if statement should be executed.__ If a\n",
    "conditional test evaluates to __True__, Python __executes__ the code following the if\n",
    "statement. If the test evaluates to __False__, Python __ignores__ the code following\n",
    "the if statement."
   ]
  },
  {
   "cell_type": "markdown",
   "metadata": {},
   "source": [
    "### Checking for Equality"
   ]
  },
  {
   "cell_type": "markdown",
   "metadata": {},
   "source": [
    "Most conditional tests __compare the current value of a variable to a specific\n",
    "value of interest.__ The simplest conditional test checks whether the value of a\n",
    "variable is equal to the value of interest:"
   ]
  },
  {
   "cell_type": "code",
   "execution_count": 19,
   "metadata": {},
   "outputs": [
    {
     "data": {
      "text/plain": [
       "False"
      ]
     },
     "execution_count": 19,
     "metadata": {},
     "output_type": "execute_result"
    }
   ],
   "source": [
    "#defining variable\n",
    "name = \"harry\"\n",
    "\n",
    "\n",
    "#checking variable\n",
    "name == \"john\""
   ]
  },
  {
   "cell_type": "markdown",
   "metadata": {},
   "source": [
    "`==` is the __equality operator__. The equality operator returns\n",
    "True if the values on the left and right side of the operator match, and\n",
    "False if they don’t match. The values in this example match, so Python\n",
    "returns True."
   ]
  },
  {
   "cell_type": "markdown",
   "metadata": {},
   "source": [
    "### Checking for Inequality"
   ]
  },
  {
   "cell_type": "markdown",
   "metadata": {},
   "source": [
    "When you want to determine whether two values are not equal, you can\n",
    "combine an exclamation point and an equal sign (!=). The exclamation\n",
    "point represents __not__, as it does in many programming languages."
   ]
  },
  {
   "cell_type": "code",
   "execution_count": 21,
   "metadata": {},
   "outputs": [
    {
     "name": "stdout",
     "output_type": "stream",
     "text": [
      "what is your name? john\n"
     ]
    }
   ],
   "source": [
    "name = input(\"what is your name? \")\n",
    "\n",
    "if name.lower() != 'john':\n",
    "    print(\"Your name is not john\")"
   ]
  },
  {
   "cell_type": "markdown",
   "metadata": {},
   "source": [
    "In the example above we are using a input statement to ask the user for their name. Then using an if statement and the condition statement inside of it, we determine of the name is not equal to john. If it isnt equal to john, it will print out a statement saying, Your name is not john."
   ]
  },
  {
   "cell_type": "markdown",
   "metadata": {},
   "source": [
    "### Numerical Comparisons"
   ]
  },
  {
   "cell_type": "markdown",
   "metadata": {},
   "source": [
    "Testing numerical values is pretty straightforward. For example, the following code checks whether a person is 18 years old:"
   ]
  },
  {
   "cell_type": "code",
   "execution_count": 23,
   "metadata": {},
   "outputs": [
    {
     "name": "stdout",
     "output_type": "stream",
     "text": [
      "what is your age ?17\n"
     ]
    },
    {
     "data": {
      "text/plain": [
       "False"
      ]
     },
     "execution_count": 23,
     "metadata": {},
     "output_type": "execute_result"
    }
   ],
   "source": [
    "age = int(input(\"what is your age ?\"))\n",
    "\n",
    "\n",
    "age == 18"
   ]
  },
  {
   "cell_type": "markdown",
   "metadata": {},
   "source": [
    "You can include various mathematical comparisons in your conditional\n",
    "statements as well, such as less than, less than or equal to, greater than, and\n",
    "greater than or equal to:\n"
   ]
  },
  {
   "cell_type": "code",
   "execution_count": 25,
   "metadata": {},
   "outputs": [
    {
     "data": {
      "text/plain": [
       "False"
      ]
     },
     "execution_count": 25,
     "metadata": {},
     "output_type": "execute_result"
    }
   ],
   "source": [
    "age = 22\n",
    "\n",
    "age < 21"
   ]
  },
  {
   "cell_type": "code",
   "execution_count": 26,
   "metadata": {},
   "outputs": [
    {
     "data": {
      "text/plain": [
       "True"
      ]
     },
     "execution_count": 26,
     "metadata": {},
     "output_type": "execute_result"
    }
   ],
   "source": [
    "age >= 21"
   ]
  },
  {
   "cell_type": "markdown",
   "metadata": {},
   "source": [
    "### Checking Multiple conditions with `and` & `or`"
   ]
  },
  {
   "cell_type": "markdown",
   "metadata": {},
   "source": [
    "You may want to check multiple conditions at the same time. For example,\n",
    "sometimes you might need __two conditions to be True__ to take an action. Other\n",
    "times you might be satisfied with just one condition being True. The keywords\n",
    "`and` & `or` can help you in these situations."
   ]
  },
  {
   "cell_type": "markdown",
   "metadata": {},
   "source": [
    "To check whether two conditions are both __True simultaneously__, use the keyword `and` to combine the two conditional tests. If each test passes, the overall expression evaluates to True. If either test fails or if both tests fail, the\n",
    "expression evaluates to False."
   ]
  },
  {
   "cell_type": "markdown",
   "metadata": {},
   "source": [
    "Look at the example below to see how the `and` opperator is used"
   ]
  },
  {
   "cell_type": "code",
   "execution_count": 28,
   "metadata": {},
   "outputs": [
    {
     "data": {
      "text/plain": [
       "True"
      ]
     },
     "execution_count": 28,
     "metadata": {},
     "output_type": "execute_result"
    }
   ],
   "source": [
    "age_1 = 22\n",
    "\n",
    "age_2 = 30\n",
    "\n",
    "age_1 >= 21 and age_2 >= 21\n"
   ]
  },
  {
   "cell_type": "markdown",
   "metadata": {},
   "source": [
    "In the example above there are two people with diffrent ages.  We check whether both\n",
    "ages are 21 or older. The test on the left passes, but the test on the right fails,\n",
    "so the overall conditional expression evaluates to False"
   ]
  },
  {
   "cell_type": "markdown",
   "metadata": {},
   "source": [
    "The keyword `or` allows you to __check multiple conditions as well__, but it\n",
    "passes when either or both of the individual tests pass. An `or` expression\n",
    "__fails only when both individual tests fail.__\n",
    "Let’s consider two ages again, but this time we’ll look for only one person to be over 21:"
   ]
  },
  {
   "cell_type": "code",
   "execution_count": 29,
   "metadata": {},
   "outputs": [
    {
     "data": {
      "text/plain": [
       "True"
      ]
     },
     "execution_count": 29,
     "metadata": {},
     "output_type": "execute_result"
    }
   ],
   "source": [
    "age_1 = 22\n",
    "\n",
    "age_2 = 17\n",
    "\n",
    "age_1 >= 21 or age_2 >= 21\n"
   ]
  },
  {
   "cell_type": "markdown",
   "metadata": {},
   "source": [
    "We start with two age variables again. Because the test __for age_1\n",
    "passes__, the overall expression evaluates to True."
   ]
  },
  {
   "cell_type": "markdown",
   "metadata": {},
   "source": [
    "### Checking Whether a Value Is in a List"
   ]
  },
  {
   "cell_type": "markdown",
   "metadata": {},
   "source": [
    "Sometimes it’s important to check whether a list __contains a certain value__\n",
    "before taking an action. To find out whether a particular value is __already in a list__, use the keyword `in`."
   ]
  },
  {
   "cell_type": "markdown",
   "metadata": {},
   "source": [
    "Let’s consider some code you might write for a __pizzeria__. We’ll\n",
    "make a list of toppings a customer has requested for a pizza and then\n",
    "check whether certain toppings are in the list."
   ]
  },
  {
   "cell_type": "code",
   "execution_count": 30,
   "metadata": {},
   "outputs": [
    {
     "data": {
      "text/plain": [
       "True"
      ]
     },
     "execution_count": 30,
     "metadata": {},
     "output_type": "execute_result"
    }
   ],
   "source": [
    "requested_toppings = ['mushrooms', 'onions', 'pineapple']\n",
    "\n",
    "\n",
    "'mushrooms' in requested_toppings"
   ]
  },
  {
   "cell_type": "code",
   "execution_count": 31,
   "metadata": {},
   "outputs": [
    {
     "data": {
      "text/plain": [
       "False"
      ]
     },
     "execution_count": 31,
     "metadata": {},
     "output_type": "execute_result"
    }
   ],
   "source": [
    "'pepperoni' in requested_toppings"
   ]
  },
  {
   "cell_type": "markdown",
   "metadata": {},
   "source": [
    "The keyword `in` tells Python to check for the existence of\n",
    "`mushrooms` and `pepperoni` in the list requested_toppings. This technique is\n",
    "quite __powerful__ because you can create a __list of essential values__, and then\n",
    "easily check whether the value you’re testing matches one of the values in\n",
    "the list."
   ]
  },
  {
   "cell_type": "markdown",
   "metadata": {},
   "source": [
    "Other times, it’s important to know if a value does not appear in a list. You\n",
    "can use the keyword `not` in this situation. For example, consider a __list of users\n",
    "who are banned from commenting in a forum__. You can check whether a\n",
    "user has been banned before allowing that person to submit a comment"
   ]
  },
  {
   "cell_type": "code",
   "execution_count": 32,
   "metadata": {},
   "outputs": [
    {
     "name": "stdout",
     "output_type": "stream",
     "text": [
      "the user sara is not in banned_users\n"
     ]
    }
   ],
   "source": [
    "banned_users  = ['andrew', 'caroline', 'david']\n",
    "\n",
    "user = \"sara\"\n",
    "\n",
    "if user not in banned_users:\n",
    "    print(f\"the user {user} is not in banned_users\")"
   ]
  },
  {
   "cell_type": "markdown",
   "metadata": {},
   "source": [
    "If the value of user __is not in the list__\n",
    "banned_users, Python returns `True` and executes the indented line."
   ]
  },
  {
   "cell_type": "markdown",
   "metadata": {},
   "source": [
    "### Boolean Expression"
   ]
  },
  {
   "cell_type": "markdown",
   "metadata": {},
   "source": [
    "A Boolean expression is just another name for a\n",
    "conditional test. A Boolean value is either True or False, just like the value\n",
    "of a conditional expression after it has been evaluated."
   ]
  },
  {
   "cell_type": "code",
   "execution_count": 22,
   "metadata": {},
   "outputs": [],
   "source": [
    "move_complete = True\n",
    "\n",
    "food_served = False"
   ]
  },
  {
   "cell_type": "markdown",
   "metadata": {},
   "source": [
    "Boolean values provide an efficient way to __track the state of a program__\n",
    "or a particular condition that is important in your program."
   ]
  },
  {
   "cell_type": "markdown",
   "metadata": {},
   "source": [
    "<div class=\"alert alert-block alert-success\">\n",
    "<b>Practice: </b> Write a series of conditional tests. Print a statement\n",
    "describing each test and your prediction for the results of each test. \n",
    "</div> "
   ]
  },
  {
   "cell_type": "code",
   "execution_count": 28,
   "metadata": {},
   "outputs": [],
   "source": [
    "#practice here (it can be about anything)\n",
    "\n",
    "\n",
    "\n",
    "\n",
    "\n",
    "\n",
    "\n",
    "\n",
    "\n"
   ]
  },
  {
   "cell_type": "markdown",
   "metadata": {},
   "source": [
    "----------"
   ]
  },
  {
   "cell_type": "markdown",
   "metadata": {},
   "source": [
    "## If Statements"
   ]
  },
  {
   "cell_type": "markdown",
   "metadata": {},
   "source": [
    "Now that you understand contitional statements, you are now able to start writting your own if statements. If statements are __very useful when it comes to programming__ and it can be used in a variety of cases. Lets dig deeper into if statements below!"
   ]
  },
  {
   "cell_type": "markdown",
   "metadata": {},
   "source": [
    "### simple if satements"
   ]
  },
  {
   "cell_type": "markdown",
   "metadata": {},
   "source": [
    "Simple if statements has one coditional statement and one action."
   ]
  },
  {
   "attachments": {
    "image.png": {
     "image/png": "[encoded data removed]"
    }
   },
   "cell_type": "markdown",
   "metadata": {},
   "source": [
    "![image.png](attachment:image.png)"
   ]
  },
  {
   "cell_type": "markdown",
   "metadata": {},
   "source": [
    "You can put any conditional statement in the first line and just about any\n",
    "action in the indented block following the test. If the conditional statement\n",
    "evaluates to __True, Python executes the code following__ the if statement.\n",
    "If the test evaluates to __False, Python ignores the code following__ the if\n",
    "statement."
   ]
  },
  {
   "cell_type": "code",
   "execution_count": 34,
   "metadata": {
    "scrolled": true
   },
   "outputs": [
    {
     "name": "stdout",
     "output_type": "stream",
     "text": [
      "You are old enough to vote!\n"
     ]
    }
   ],
   "source": [
    "age = 18\n",
    "\n",
    "if age >= 18:\n",
    "    print(\"You are old enough to vote!\")"
   ]
  },
  {
   "cell_type": "markdown",
   "metadata": {},
   "source": [
    "The following code tests whether\n",
    "the person can vote. Python checks to see whether the value of age __is greater than or\n",
    "equal to 18.__ It is, so Python executes the indented print() call!"
   ]
  },
  {
   "cell_type": "markdown",
   "metadata": {},
   "source": [
    "### If Else Statements"
   ]
  },
  {
   "cell_type": "markdown",
   "metadata": {},
   "source": [
    "Often, you’ll want to take one action when a conditional test passes and a different action in all other cases. Python’s if-else statement makes this possible.\n",
    "An if-else block is similar to a simple if statement, __but the else statement\n",
    "allows you to define an action or set of actions that are executed when the\n",
    "conditional test fails.__"
   ]
  },
  {
   "cell_type": "markdown",
   "metadata": {},
   "source": [
    "We will display the same message we had previously if the person is old\n",
    "enough to vote, but this time we’ll add a message for anyone who is not\n",
    "old enough to vote!"
   ]
  },
  {
   "cell_type": "code",
   "execution_count": 36,
   "metadata": {},
   "outputs": [
    {
     "name": "stdout",
     "output_type": "stream",
     "text": [
      "what is your age? 20\n",
      "You are old enough to vote!\n"
     ]
    }
   ],
   "source": [
    "age = int(input(\"what is your age? \"))\n",
    "\n",
    "if age >= 18:\n",
    "    print(\"You are old enough to vote!\")\n",
    "    \n",
    "else:\n",
    "    print(f\"you are only {age}! You are not legally allowed to vote!\")"
   ]
  },
  {
   "cell_type": "markdown",
   "metadata": {},
   "source": [
    "This code works because it has only two possible situations to evaluate:\n",
    "a person is either old enough to vote or not old enough to vote. The if-else\n",
    "structure works well in situations in which you want Python to always execute\n",
    "one of two possible actions. In a simple if-else chain like this, one of the two\n",
    "actions will always be executed."
   ]
  },
  {
   "cell_type": "markdown",
   "metadata": {},
   "source": [
    "### The if-elif-else Chain"
   ]
  },
  {
   "cell_type": "markdown",
   "metadata": {},
   "source": [
    "Often, you’ll need to test more than two possible situations, and to evaluate\n",
    "these you can use Python’s if-elif-else syntax. Python executes only one\n",
    "block in an if-elif-else chain. It runs each conditional test in order until\n",
    "one passes. When a test passes, the code following that test is executed and\n",
    "Python skips the rest of the tests."
   ]
  },
  {
   "cell_type": "markdown",
   "metadata": {},
   "source": [
    "This is very useful for __many situations in real life__. Lets create a program for movie theater ticket prices based on age. Here will be the reqirements."
   ]
  },
  {
   "cell_type": "markdown",
   "metadata": {},
   "source": [
    "__Pricing__\n",
    "- under 13 is 5 dollars\n",
    "- 13 - 59 is 10 dollars\n",
    "- above 60 is 7 dollars "
   ]
  },
  {
   "cell_type": "code",
   "execution_count": null,
   "metadata": {},
   "outputs": [],
   "source": [
    "movieGuest_age = int(input('what is your age ? '))\n",
    "\n",
    "if movieGuest_age < 13:\n",
    "    price = 5\n",
    "    print(f\"price for the movie ticket is {price}\")\n",
    "elif movieGuest_age < 60:\n",
    "    price = 10\n",
    "    print(f\"price for the movie ticket is {price}\")\n",
    "else: \n",
    "    price = 7\n",
    "    print(f\"price for the movie ticket is {price}\")"
   ]
  },
  {
   "cell_type": "markdown",
   "metadata": {},
   "source": [
    "The if test  whether a person is under 13 years old. If the test\n",
    "passes, an appropriate message is printed and Python skips the rest of the\n",
    "tests. The elif line is really another if test, which runs only if the previous test failed. At this point in the chain, we know the person is at least\n",
    "13 years old because the first test failed. If the person is under 60, an appropriate message is printed and Python skips the else block. If both the if\n",
    "and elif tests fail, Python runs the code in the else block."
   ]
  },
  {
   "cell_type": "markdown",
   "metadata": {},
   "source": [
    "In a real situation you have the ability to use as many elif statements as you want. It will move down each statement and will only stop when a value of __true is returned__"
   ]
  },
  {
   "cell_type": "markdown",
   "metadata": {},
   "source": [
    "### Testing Multiple Conditions"
   ]
  },
  {
   "cell_type": "markdown",
   "metadata": {},
   "source": [
    "The if-elif-else chain is powerful, but it’s only appropriate to use when you\n",
    "just need one test to pass. As soon as Python finds one test that passes, it\n",
    "skips the rest of the tests. This behavior is beneficial, because it’s efficient\n",
    "and allows you to test for one specific condition"
   ]
  },
  {
   "cell_type": "markdown",
   "metadata": {},
   "source": [
    "However, sometimes it’s important to check all of the conditions of\n",
    "interest. In this case, you should use a series of simple if statements with no\n",
    "elif or else blocks. This technique makes sense when more than one condition could be True, and you want to act on every condition that is True."
   ]
  },
  {
   "cell_type": "markdown",
   "metadata": {},
   "source": [
    "Let’s reconsider the pizzeria example. If someone requests a two-topping\n",
    "pizza, you’ll need to be sure to include both toppings on their pizza:"
   ]
  },
  {
   "cell_type": "code",
   "execution_count": 36,
   "metadata": {},
   "outputs": [
    {
     "name": "stdout",
     "output_type": "stream",
     "text": [
      "Adding mushrooms.\n",
      "Adding extra cheese.\n",
      "\n",
      "Finished making your pizza!\n"
     ]
    }
   ],
   "source": [
    "requested_toppings = ['mushrooms', 'extra cheese']\n",
    "\n",
    "if 'mushrooms' in requested_toppings:\n",
    "    print(\"Adding mushrooms.\")\n",
    "if 'pepperoni' in requested_toppings:\n",
    "     print(\"Adding pepperoni.\")\n",
    "if 'extra cheese' in requested_toppings:\n",
    "     print(\"Adding extra cheese.\")\n",
    "\n",
    "print(\"\\nFinished making your pizza!\")"
   ]
  },
  {
   "cell_type": "markdown",
   "metadata": {},
   "source": [
    "We start with a list containing the requested toppings. The if\n",
    "statement checks to see __whether the person requested mushrooms\n",
    "on their pizza.__ If so, a __message is printed__ confirming that topping. The\n",
    "test for pepperoni is __another simple if statement__, not an elif or else\n",
    "statement, so this test is run regardless of whether the previous test passed\n",
    "or not. The code checks whether extra cheese was requested regardless of the results from the first two tests. __These three independent tests\n",
    "are executed every time this program is run.__"
   ]
  },
  {
   "cell_type": "markdown",
   "metadata": {},
   "source": [
    "`In summary, if you want only one block of code to run, use an if-elifelse chain. If more than one block of code needs to run, use a series of\n",
    "independent if statements.`"
   ]
  },
  {
   "cell_type": "markdown",
   "metadata": {},
   "source": [
    "<div class=\"alert alert-block alert-success\">\n",
    "<b>Practice: </b> Write a series of conditional tests. Print a statement\n",
    "describing each test and your prediction for the results of each test. \n",
    "    \n",
    "- Write an if statement to test whether the alien’s color is green. If it is, print a message that the player just earned 5 points.\n",
    "\n",
    "- Write one version of this program that passes the if test and another that fails. (The version that fails will have no output.)\n",
    "\n",
    "</div> "
   ]
  },
  {
   "cell_type": "code",
   "execution_count": 38,
   "metadata": {},
   "outputs": [],
   "source": [
    "# try it out here\n",
    "\n",
    "\n",
    "\n",
    "\n",
    "\n",
    "\n",
    "\n",
    "\n",
    "\n",
    "\n"
   ]
  },
  {
   "cell_type": "markdown",
   "metadata": {},
   "source": [
    "-------"
   ]
  },
  {
   "cell_type": "markdown",
   "metadata": {},
   "source": [
    "## Checking for Special Items"
   ]
  },
  {
   "cell_type": "markdown",
   "metadata": {},
   "source": [
    "Now that you have a basic understanding of conditional tests and if statements, let’s take a closer look at how you can watch\n",
    "for special values in a list and handle those values appropriately."
   ]
  },
  {
   "cell_type": "markdown",
   "metadata": {},
   "source": [
    "Let’s continue with the pizzeria example. The pizzeria displays a message\n",
    "whenever a topping is added to your pizza, as it’s being made. The code for\n",
    "this action can be written very efficiently by making a list of toppings the\n",
    "customer has requested and using a loop to announce each topping as it’s\n",
    "added to the pizza:"
   ]
  },
  {
   "cell_type": "code",
   "execution_count": 43,
   "metadata": {},
   "outputs": [
    {
     "name": "stdout",
     "output_type": "stream",
     "text": [
      "Adding mushrooms.\n",
      "Sorry, we are out of green peppers right now.\n",
      "Adding extra cheese.\n",
      "\n",
      "Finished making your pizza!\n"
     ]
    }
   ],
   "source": [
    "requested_toppings = ['mushrooms', 'green peppers', 'extra cheese']\n",
    "for requested_topping in requested_toppings:\n",
    "    if requested_topping == 'green peppers':\n",
    "         print(\"Sorry, we are out of green peppers right now.\")\n",
    "    else:\n",
    "        print(f\"Adding {requested_topping}.\")\n",
    "\n",
    "print(\"\\nFinished making your pizza!\")"
   ]
  },
  {
   "cell_type": "markdown",
   "metadata": {},
   "source": [
    "This time we check each requested item before adding it to the pizza.\n",
    "The code checks to see if the person requested green peppers. If so,\n",
    "we display a message informing them why they can’t have green peppers.\n",
    "The else block ensures that all other toppings will be added to the\n",
    "pizza."
   ]
  },
  {
   "cell_type": "markdown",
   "metadata": {},
   "source": [
    "### Using Multiple Lists"
   ]
  },
  {
   "cell_type": "markdown",
   "metadata": {},
   "source": [
    "People will ask for just about anything, especially when it comes to pizza\n",
    "toppings. What if a customer actually wants french fries on their pizza? You\n",
    "can use lists and if statements to make sure your input makes sense before\n",
    "you act on it."
   ]
  },
  {
   "cell_type": "code",
   "execution_count": 45,
   "metadata": {},
   "outputs": [
    {
     "name": "stdout",
     "output_type": "stream",
     "text": [
      "Adding mushrooms.\n",
      "Adding extra cheese.\n",
      "Sorry, we don't have extra cheese.\n",
      "\n",
      "Finished making your pizza!\n"
     ]
    }
   ],
   "source": [
    "available_toppings = ['mushrooms', 'olives', 'green peppers','pepperoni', 'pineapple', 'extra cheese']\n",
    "\n",
    "requested_toppings = ['mushrooms', 'french fries', 'extra cheese']\n",
    "\n",
    "for requested_topping in requested_toppings:\n",
    "    if requested_topping in available_toppings:\n",
    "        print(f\"Adding {requested_topping}.\")\n",
    "else:\n",
    "    print(f\"Sorry, we don't have {requested_topping}.\")\n",
    "\n",
    "print(\"\\nFinished making your pizza!\")"
   ]
  },
  {
   "cell_type": "markdown",
   "metadata": {},
   "source": [
    "We define a list of available toppings at this pizzeria. Note that\n",
    "this could be a tuple if the pizzeria has a stable selection of toppings. We make a list of toppings that a customer has requested. Note the unusual\n",
    "request, 'french fries'.We loop through the list of requested toppings.\n",
    "Inside the loop, we first check to see if each requested topping is actually\n",
    "in the list of available toppings. If it is, we add that topping to the pizza.\n",
    "If the requested topping is not in the list of available toppings, the else block\n",
    "will run the print statement. The else block prints a message telling the user which toppings\n",
    "are unavailable."
   ]
  },
  {
   "cell_type": "markdown",
   "metadata": {},
   "source": [
    "<div class=\"alert alert-block alert-success\">\n",
    "<b>Practice: </b>  Checking Usernames: Do the following to create a program that simulates\n",
    "how websites ensure that everyone has a unique username.\n",
    "\n",
    "- Make a list of five or more usernames called current_users.\n",
    "\n",
    "- Make another list of five usernames called new_users. Make sure one or\n",
    "two of the new usernames are also in the current_users list.\n",
    "\n",
    "- Loop through the new_users list to see if each new username has already\n",
    "been used. If it has, print a message that the person will need to enter a\n",
    "new username. If a username has not been used, print a message saying\n",
    "that the username is available.\n",
    "\n",
    "- Make sure your comparison is case insensitive. If 'John' has been used,\n",
    "'JOHN' should not be accepted. (To do this, you’ll need to make a copy of\n",
    "current_users containing the lowercase versions of all existing users.)\n",
    "\n",
    "\n",
    "</div> "
   ]
  },
  {
   "cell_type": "code",
   "execution_count": 46,
   "metadata": {},
   "outputs": [],
   "source": [
    "# TRY HERE OR IN REPL.IT\n",
    "\n",
    "\n",
    "\n",
    "\n",
    "\n",
    "\n",
    "\n",
    "\n",
    "\n",
    "\n",
    "\n",
    "\n",
    "\n"
   ]
  },
  {
   "cell_type": "code",
   "execution_count": null,
   "metadata": {},
   "outputs": [],
   "source": []
  }
 ],
 "metadata": {
  "kernelspec": {
   "display_name": "Python 3",
   "language": "python",
   "name": "python3"
  },
  "language_info": {
   "codemirror_mode": {
    "name": "ipython",
    "version": 3
   },
   "file_extension": ".py",
   "mimetype": "text/x-python",
   "name": "python",
   "nbconvert_exporter": "python",
   "pygments_lexer": "ipython3",
   "version": "3.7.4"
  }
 },
 "nbformat": 4,
 "nbformat_minor": 2
}
