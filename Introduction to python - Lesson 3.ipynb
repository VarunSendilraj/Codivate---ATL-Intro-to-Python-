{
 "cells": [
  {
   "cell_type": "markdown",
   "metadata": {},
   "source": [
    "# Lesson 3 - Intro to Lists\n",
    "\n",
    "<div class=\"alert alert-block alert-info\">\n",
    "<b>©️</b> CODIVATE | ATL\n",
    "</div>\n"
   ]
  },
  {
   "cell_type": "markdown",
   "metadata": {},
   "source": [
    "--------"
   ]
  },
  {
   "cell_type": "markdown",
   "metadata": {},
   "source": [
    "__What we will go over__\n",
    "- lists\n",
    "- list methods\n"
   ]
  },
  {
   "cell_type": "markdown",
   "metadata": {},
   "source": [
    "--------------"
   ]
  },
  {
   "cell_type": "markdown",
   "metadata": {},
   "source": [
    "## What are List?"
   ]
  },
  {
   "cell_type": "markdown",
   "metadata": {},
   "source": [
    "A list is a collection of \"items\" which is __ordered and changeable__. You can have a list with your friends names in it, all the letters in the alphabet, and even numbers. Anything is able to go in a list and the items in it dont have to be ordered in a particular way or related in any way."
   ]
  },
  {
   "cell_type": "markdown",
   "metadata": {},
   "source": [
    "To make a list, use __square brackets__( [ , , , ,  ] ) and __seperate__ the items in the list __with commas__."
   ]
  },
  {
   "cell_type": "code",
   "execution_count": 1,
   "metadata": {},
   "outputs": [
    {
     "name": "stdout",
     "output_type": "stream",
     "text": [
      "['LeBron James', 'Kevin Durant', 'Kawhi Leonard', 'Anthony Davis', 'Steph Curry', 'Giannis Antetokounmpo', 'James Harden', 'Russell Westbrook']\n"
     ]
    }
   ],
   "source": [
    "#list of popular nba players\n",
    "nbaPlayers = [\"LeBron James\", \"Kevin Durant\", \"Kawhi Leonard\", \"Anthony Davis\", \"Steph Curry\", \"Giannis Antetokounmpo\", \"James Harden\", \"Russell Westbrook\"]\n",
    "\n",
    "#printing out the list\n",
    "print(nbaPlayers)"
   ]
  },
  {
   "cell_type": "markdown",
   "metadata": {},
   "source": [
    "In the example above, we created a list of some of the most popular nba players and we printed the list. What if you wanted to print out an __induvidual item in a list__."
   ]
  },
  {
   "cell_type": "markdown",
   "metadata": {},
   "source": [
    "-------------"
   ]
  },
  {
   "cell_type": "markdown",
   "metadata": {},
   "source": [
    "## Accessing Elements in a List"
   ]
  },
  {
   "cell_type": "markdown",
   "metadata": {},
   "source": [
    "You can access any element in a list by telling Python the position, or __index__, of the item desired. To access an element in a list, write the name of the list followed by the index of the item enclosed in square brackets"
   ]
  },
  {
   "cell_type": "code",
   "execution_count": 2,
   "metadata": {},
   "outputs": [
    {
     "name": "stdout",
     "output_type": "stream",
     "text": [
      "LeBron James\n"
     ]
    }
   ],
   "source": [
    "#list of popular nba players\n",
    "nbaPlayers = [\"LeBron James\", \"Kevin Durant\", \"Kawhi Leonard\", \"Anthony Davis\", \"Steph Curry\", \"Giannis Antetokounmpo\", \"James Harden\", \"Russell Westbrook\"]\n",
    "\n",
    "#printing out the first item in a list\n",
    "print(nbaPlayers[0])"
   ]
  },
  {
   "cell_type": "markdown",
   "metadata": {},
   "source": [
    "This way you can extract a single item in a list and get it displayed in a nicley formatted way. Lets use some string methods and list indexing in conjuction with each other."
   ]
  },
  {
   "cell_type": "code",
   "execution_count": 3,
   "metadata": {},
   "outputs": [
    {
     "name": "stdout",
     "output_type": "stream",
     "text": [
      "LEBRON JAMES\n"
     ]
    }
   ],
   "source": [
    "#list of popular nba players\n",
    "nbaPlayers = [\"LeBron James\", \"Kevin Durant\", \"Kawhi Leonard\", \"Anthony Davis\", \"Steph Curry\", \"Giannis Antetokounmpo\", \"James Harden\", \"Russell Westbrook\"]\n",
    "\n",
    "#printing out the first item in a list\n",
    "print(nbaPlayers[0].upper())"
   ]
  },
  {
   "cell_type": "markdown",
   "metadata": {},
   "source": [
    "You may also be wondering why we used the number 0 to access the first number in a list. Python , and most other programming languages, consider the first item in a list to be 0 instead of 1. "
   ]
  },
  {
   "cell_type": "markdown",
   "metadata": {},
   "source": [
    "If you wanted to access the last item in a list in an easier way look at the example below."
   ]
  },
  {
   "cell_type": "code",
   "execution_count": 4,
   "metadata": {},
   "outputs": [
    {
     "name": "stdout",
     "output_type": "stream",
     "text": [
      "Russell Westbrook\n"
     ]
    }
   ],
   "source": [
    "#list of popular nba players\n",
    "nbaPlayers = [\"LeBron James\", \"Kevin Durant\", \"Kawhi Leonard\", \"Anthony Davis\", \"Steph Curry\", \"Giannis Antetokounmpo\", \"James Harden\", \"Russell Westbrook\"]\n",
    "\n",
    "#printing out the last item in a list\n",
    "print(nbaPlayers[-1])"
   ]
  },
  {
   "cell_type": "markdown",
   "metadata": {},
   "source": [
    "This syntax is quite useful, because you’ll often want to access the last items in a list without knowing exactly how long the list is. This convention extends to other negative index values as well. The __index -2 returns the second item__ from the end of the list, the __index -3 returns the third item__ from the end, and so forth."
   ]
  },
  {
   "cell_type": "markdown",
   "metadata": {},
   "source": [
    "Finally lets print out our favorite nba player in a complete sentence using f-strings"
   ]
  },
  {
   "cell_type": "code",
   "execution_count": 12,
   "metadata": {},
   "outputs": [
    {
     "name": "stdout",
     "output_type": "stream",
     "text": [
      "My favorite NBA Player is Russell Westbrook!\n"
     ]
    }
   ],
   "source": [
    "#list of popular nba players\n",
    "nbaPlayers = [\"LeBron James\", \"Kevin Durant\", \"Kawhi Leonard\", \"Anthony Davis\", \"Steph Curry\", \"Giannis Antetokounmpo\", \"James Harden\", \"Russell Westbrook\"]\n",
    "\n",
    "#printing out the last item in a list\n",
    "print(f\"My favorite NBA Player is {nbaPlayers[-1]}!\")"
   ]
  },
  {
   "cell_type": "markdown",
   "metadata": {},
   "source": [
    "----------------------"
   ]
  },
  {
   "cell_type": "markdown",
   "metadata": {},
   "source": [
    "<div class=\"alert alert-block alert-success\">\n",
    "<b>Practice: </b>  Think of your favorite mode of transportation, such as a\n",
    "motorcycle or a car, and make a list that stores several examples. Use your list\n",
    "to print a series of statements about these items, such as “I would like to own a\n",
    "Tesla Model-X.”\n",
    "</div> "
   ]
  },
  {
   "cell_type": "code",
   "execution_count": 1,
   "metadata": {},
   "outputs": [],
   "source": [
    "#Create a list (at least 3 items)\n",
    "\n",
    "\n",
    "\n",
    "#Print out the statements one by one\n",
    "\n",
    "\n",
    "\n"
   ]
  },
  {
   "cell_type": "markdown",
   "metadata": {},
   "source": [
    "------"
   ]
  },
  {
   "cell_type": "markdown",
   "metadata": {},
   "source": [
    "## Changing, Adding, and Removing Elements "
   ]
  },
  {
   "cell_type": "markdown",
   "metadata": {},
   "source": [
    "Most lists that are made will most likley be __dynamic and adjustable__. So now you will learn about diffrent ways to manipulate lists."
   ]
  },
  {
   "cell_type": "markdown",
   "metadata": {},
   "source": [
    "### Changing Elements in a List"
   ]
  },
  {
   "cell_type": "markdown",
   "metadata": {},
   "source": [
    "To change an \"item\" or element in a list look at the example below:"
   ]
  },
  {
   "cell_type": "code",
   "execution_count": 1,
   "metadata": {},
   "outputs": [
    {
     "name": "stdout",
     "output_type": "stream",
     "text": [
      "['python', 'java', 'PHP', 'javascript', 'MATLAB', 'rust']\n"
     ]
    }
   ],
   "source": [
    "#Definining the List and elements in the List\n",
    "programmingLanguages = [\"python\", \"java\", \"c++\", \"javascript\", \"MATLAB\", \"rust\"]\n",
    "\n",
    "#changing the 3rd element in the list from c++ to PHP \n",
    "programmingLanguages[2] = \"PHP\"\n",
    "\n",
    "#printing the list to see changes\n",
    "print(programmingLanguages)"
   ]
  },
  {
   "cell_type": "markdown",
   "metadata": {},
   "source": [
    "The output shows that the __third item has been changed__, and the __rest of the list stays the same__. Using this method, you can change any element in a list."
   ]
  },
  {
   "cell_type": "markdown",
   "metadata": {},
   "source": [
    "### Adding Elements to the list"
   ]
  },
  {
   "cell_type": "markdown",
   "metadata": {},
   "source": [
    "The simplest way to add a new element to a list is to __append the item__ to the list. When you append an item to a list, the new __element is added to the end__ of the list."
   ]
  },
  {
   "cell_type": "markdown",
   "metadata": {},
   "source": [
    "Lets add a new programming language to the end of our list:"
   ]
  },
  {
   "cell_type": "code",
   "execution_count": 5,
   "metadata": {},
   "outputs": [
    {
     "name": "stdout",
     "output_type": "stream",
     "text": [
      "['python', 'java', 'c++', 'javascript', 'MATLAB', 'rust', 'c#']\n"
     ]
    }
   ],
   "source": [
    "#Definining the List and elements in the List\n",
    "programmingLanguages = [\"python\", \"java\", \"c++\", \"javascript\", \"MATLAB\", \"rust\"]\n",
    "\n",
    "#changing the 3rd element in the list from c++ to PHP \n",
    "programmingLanguages.append('c#')\n",
    "\n",
    "#printing the list to see changes\n",
    "print(programmingLanguages)"
   ]
  },
  {
   "cell_type": "markdown",
   "metadata": {},
   "source": [
    "As you can see, c# was added at the end of the list. The append method __adds an element to the end of the list__ without affecting any other elemnts previously in the list."
   ]
  },
  {
   "cell_type": "markdown",
   "metadata": {},
   "source": [
    "Also with the append method, you can __add elements into an empty list from scratch__. Lets recreate the list above only using the append method."
   ]
  },
  {
   "cell_type": "code",
   "execution_count": 6,
   "metadata": {},
   "outputs": [
    {
     "name": "stdout",
     "output_type": "stream",
     "text": [
      "['python', 'java', 'c++', 'javascript', 'MATLAB', 'rust', 'c#']\n"
     ]
    }
   ],
   "source": [
    "#defining list\n",
    "programmmingLanguages = []\n",
    "\n",
    "#append elements into list\n",
    "\n",
    "programmmingLanguages.append(\"python\")\n",
    "\n",
    "programmmingLanguages.append(\"java\")\n",
    "\n",
    "programmmingLanguages.append(\"c++\")\n",
    "\n",
    "programmmingLanguages.append(\"javascript\")\n",
    "\n",
    "programmmingLanguages.append(\"MATLAB\")\n",
    "\n",
    "programmmingLanguages.append(\"rust\")\n",
    "\n",
    "#printing out the new list\n",
    "print(programmingLanguages)"
   ]
  },
  {
   "cell_type": "markdown",
   "metadata": {},
   "source": [
    "The resulting list looks exactly the same as the lists in the previous examples. Building lists this way is very common, because you often won’t know\n",
    "the data your users want to store in a program until after the program is\n",
    "running. To put your users in control, start by defining an empty list that\n",
    "will hold the users’ values. Then append each new value provided to the list\n",
    "you just created."
   ]
  },
  {
   "cell_type": "markdown",
   "metadata": {},
   "source": [
    "### Inserting Elements into a list"
   ]
  },
  {
   "cell_type": "markdown",
   "metadata": {},
   "source": [
    "You can add a new element at any position in your list by using the insert()\n",
    "method. You do this by specifying the index of the new element and the\n",
    "value of the new item."
   ]
  },
  {
   "cell_type": "code",
   "execution_count": 8,
   "metadata": {},
   "outputs": [
    {
     "name": "stdout",
     "output_type": "stream",
     "text": [
      "['python', 'java', 'c++', 'c#', 'javascript', 'MATLAB', 'rust']\n"
     ]
    }
   ],
   "source": [
    "#Definining the List and elements in the List\n",
    "programmingLanguages = [\"python\", \"java\", \"c++\", \"javascript\", \"MATLAB\", \"rust\"]\n",
    "\n",
    "#inserting new element in 4th spot\n",
    "programmingLanguages.insert(3,'c#')\n",
    "\n",
    "#printing the list to see changes\n",
    "print(programmingLanguages)"
   ]
  },
  {
   "cell_type": "markdown",
   "metadata": {},
   "source": [
    "In this example the code is inserting a value of c# in the 4 place in the list. This operation shifts every other value\n",
    "in the list one position to the right."
   ]
  },
  {
   "cell_type": "markdown",
   "metadata": {},
   "source": [
    "### Removing Elements from a list"
   ]
  },
  {
   "cell_type": "markdown",
   "metadata": {},
   "source": [
    "Sometimes you may want to remove items from a list. If you know the __position of the item__ you want to remove from a list, you can use __the del statement__."
   ]
  },
  {
   "cell_type": "code",
   "execution_count": 6,
   "metadata": {},
   "outputs": [
    {
     "name": "stdout",
     "output_type": "stream",
     "text": [
      "['python', 'java', 'c++', 'javascript', 'MATLAB']\n"
     ]
    }
   ],
   "source": [
    "#Definining the List and elements in the List\n",
    "programmingLanguages = [\"python\", \"java\", \"c++\", \"javascript\", \"MATLAB\", \"rust\"]\n",
    "\n",
    "#deleting the last element in the list\n",
    "del programmingLanguages[-1]\n",
    "\n",
    "#printing the list to see changes\n",
    "print(programmingLanguages)"
   ]
  },
  {
   "cell_type": "markdown",
   "metadata": {},
   "source": [
    "Sometimes you’ll want to use the value of an item after you remove it from a list. The __pop() method__ __removes the last item__ in list, but it lets you work with that item after removing it."
   ]
  },
  {
   "cell_type": "code",
   "execution_count": 7,
   "metadata": {},
   "outputs": [
    {
     "name": "stdout",
     "output_type": "stream",
     "text": [
      "['python', 'java', 'c++', 'javascript', 'MATLAB']\n",
      "---------\n",
      "rust\n"
     ]
    }
   ],
   "source": [
    "#Definining the List and elements in the List\n",
    "programmingLanguages = [\"python\", \"java\", \"c++\", \"javascript\", \"MATLAB\", \"rust\"]\n",
    "\n",
    "#deleting the last element in the list\n",
    "poppedPLanguage = programmingLanguages.pop()\n",
    "\n",
    "#printing the list to see changes\n",
    "print(programmingLanguages)\n",
    "\n",
    "print(\"---------\")\n",
    "\n",
    "\n",
    "#print popped item\n",
    "print(poppedPLanguage)"
   ]
  },
  {
   "cell_type": "markdown",
   "metadata": {},
   "source": [
    "We start by defining and printing the list programmingLanguages. Then we pop\n",
    "a value from the list and store that value in the variable poppedPLanguage.\n",
    "We print the list to show that a value has been removed from the list.\n",
    "Then we print the popped value to prove that we still have access to\n",
    "the value that was removed."
   ]
  },
  {
   "cell_type": "markdown",
   "metadata": {},
   "source": [
    "How can this be useful for us? Look at the example below and see ho its used."
   ]
  },
  {
   "cell_type": "code",
   "execution_count": 1,
   "metadata": {},
   "outputs": [
    {
     "name": "stdout",
     "output_type": "stream",
     "text": [
      "I just learned javascript!\n"
     ]
    }
   ],
   "source": [
    "#learned Programming languages\n",
    "learned_Languages = [\"python\",\"c#\", \"java\", \"ruby\"]\n",
    "\n",
    "#still need to learn programming languages\n",
    "unkown_programmningLanguages = [\"c++\", \"rust\", \"javascript\"]\n",
    "\n",
    "#removing new learned language and storing in a variable\n",
    "newly_learnedLanguage = unkown_programmningLanguages.pop()\n",
    "\n",
    "#print out learned language\n",
    "print(f\"I just learned {newly_learnedLanguage}!\")\n"
   ]
  },
  {
   "cell_type": "code",
   "execution_count": 2,
   "metadata": {},
   "outputs": [
    {
     "name": "stdout",
     "output_type": "stream",
     "text": [
      "['python', 'c#', 'java', 'ruby', 'javascript']\n"
     ]
    }
   ],
   "source": [
    "#store newly learned language in a list\n",
    "learned_Languages.append(newly_learnedLanguage)\n",
    "\n",
    "print(learned_Languages)"
   ]
  },
  {
   "cell_type": "markdown",
   "metadata": {},
   "source": [
    "You can use pop() to remove an item __from any position__ in a list by including\n",
    "the index of the item you want to remove in parentheses"
   ]
  },
  {
   "cell_type": "code",
   "execution_count": 21,
   "metadata": {},
   "outputs": [
    {
     "name": "stdout",
     "output_type": "stream",
     "text": [
      "['python', 'java', 'c++', 'javascript', 'rust']\n"
     ]
    }
   ],
   "source": [
    "#Definining the List and elements in the List\n",
    "programmingLanguages = [\"python\", \"java\", \"c++\", \"javascript\", \"MATLAB\", \"rust\"]\n",
    "\n",
    "#deleting the fifth element in the list\n",
    "poppedPLanguage = programmingLanguages.pop(4)\n",
    "\n",
    "print(programmingLanguages)\n",
    "\n"
   ]
  },
  {
   "cell_type": "markdown",
   "metadata": {},
   "source": [
    "Finally if you wanted to __remove__ an item by from a list __by value__ you can use the __remove method.__"
   ]
  },
  {
   "cell_type": "code",
   "execution_count": 8,
   "metadata": {},
   "outputs": [
    {
     "name": "stdout",
     "output_type": "stream",
     "text": [
      "['python', 'java', 'c++', 'javascript', 'rust']\n"
     ]
    }
   ],
   "source": [
    "#Definining the List and elements in the List\n",
    "programmingLanguages = [\"python\", \"java\", \"c++\", \"javascript\", \"MATLAB\", \"rust\"]\n",
    "\n",
    "#deleting the third element in the list\n",
    "programmingLanguages.remove(\"MATLAB\")\n",
    "\n",
    "print(programmingLanguages)\n"
   ]
  },
  {
   "cell_type": "markdown",
   "metadata": {},
   "source": [
    "The code tells Python to figure out where `MATLAB` appears in the\n",
    "list and remove that element"
   ]
  },
  {
   "cell_type": "markdown",
   "metadata": {},
   "source": [
    "<div class=\"alert alert-block alert-success\">\n",
    "<b>Practice: </b>   If you could invite anyone, living or deceased, to dinner, who\n",
    "would you invite? Make a list that includes at least three people you’d like to\n",
    "invite to dinner. Then use your list to print a message to each person, inviting\n",
    "them to dinner.\n",
    "</div> "
   ]
  },
  {
   "cell_type": "code",
   "execution_count": 24,
   "metadata": {},
   "outputs": [],
   "source": [
    "#create list\n",
    "\n",
    "\n",
    "#print message\n",
    "\n",
    "\n"
   ]
  },
  {
   "cell_type": "markdown",
   "metadata": {},
   "source": [
    "<div class=\"alert alert-block alert-success\">\n",
    "<b>Practice: </b>   You just heard that one of your guests can’t make the\n",
    "dinner, so you need to send out a new set of invitations. You’ll have to think of\n",
    "someone else to invite.\n",
    "</div> "
   ]
  },
  {
   "cell_type": "code",
   "execution_count": null,
   "metadata": {},
   "outputs": [],
   "source": [
    "# remove person who cant make it \n",
    "\n",
    "\n",
    "#add new invited member\n",
    "\n",
    "\n",
    "\n",
    "#send that person a message\n",
    "\n"
   ]
  },
  {
   "cell_type": "markdown",
   "metadata": {},
   "source": [
    "---------"
   ]
  },
  {
   "cell_type": "markdown",
   "metadata": {},
   "source": [
    "## Organizing Lists"
   ]
  },
  {
   "cell_type": "markdown",
   "metadata": {},
   "source": [
    "### Sorting a List Permanently with the sort() Method"
   ]
  },
  {
   "cell_type": "markdown",
   "metadata": {},
   "source": [
    "We can sort a list alphabetically using the python sort() method. Look at the exampe below to see how it works:\n"
   ]
  },
  {
   "cell_type": "code",
   "execution_count": 31,
   "metadata": {},
   "outputs": [
    {
     "name": "stdout",
     "output_type": "stream",
     "text": [
      "['albert', 'david', 'gunther', 'johnny', 'kavin', 'nick', 'sara', 'tyrone']\n"
     ]
    }
   ],
   "source": [
    "#list of students in a class\n",
    "students = [\"johnny\", \"sara\", \"kavin\", \"nick\", \"david\", \"albert\", \"tyrone\", \"gunther\"]\n",
    "\n",
    "#sort the names of the students in alphabetical order permanently\n",
    "students.sort()\n",
    "\n",
    "#displays ordered student names\n",
    "print(students)"
   ]
  },
  {
   "cell_type": "markdown",
   "metadata": {},
   "source": [
    "You can also sort this list in reverse alphabetical order by doing this:"
   ]
  },
  {
   "cell_type": "code",
   "execution_count": 33,
   "metadata": {},
   "outputs": [
    {
     "name": "stdout",
     "output_type": "stream",
     "text": [
      "['tyrone', 'sara', 'nick', 'kavin', 'johnny', 'gunther', 'david', 'albert']\n"
     ]
    }
   ],
   "source": [
    "#list of students in a class\n",
    "students = [\"johnny\", \"sara\", \"kavin\", \"nick\", \"david\", \"albert\", \"tyrone\", \"gunther\"]\n",
    "\n",
    "#sort the names of the students in reverse alphabetical order permanently\n",
    "students.sort(reverse = True)\n",
    "\n",
    "#displays ordered student names\n",
    "print(students)"
   ]
  },
  {
   "cell_type": "markdown",
   "metadata": {},
   "source": [
    "This is done by by passing the\n",
    "argument `reverse=True` to the sort() method. "
   ]
  },
  {
   "cell_type": "markdown",
   "metadata": {},
   "source": [
    "### Reversing the order of a list"
   ]
  },
  {
   "cell_type": "markdown",
   "metadata": {},
   "source": [
    "To reverse the original order of a list, you can use the reverse() method. Look below to see how its done:"
   ]
  },
  {
   "cell_type": "code",
   "execution_count": 37,
   "metadata": {},
   "outputs": [
    {
     "name": "stdout",
     "output_type": "stream",
     "text": [
      "['gunther', 'tyrone', 'albert', 'david', 'nick', 'kavin', 'sara', 'johnny']\n"
     ]
    }
   ],
   "source": [
    "#list of students in a class\n",
    "students = [\"johnny\", \"sara\", \"kavin\", \"nick\", \"david\", \"albert\", \"tyrone\", \"gunther\"]\n",
    "\n",
    "#reverse the order of the list permanetly\n",
    "students.reverse()\n",
    "\n",
    "#displays ordered student names\n",
    "print(students)"
   ]
  },
  {
   "cell_type": "markdown",
   "metadata": {},
   "source": [
    "The reverse() method changes the order of a list permanently, but you\n",
    "can revert to the original order anytime by applying reverse() to the same\n",
    "list a second time."
   ]
  },
  {
   "cell_type": "markdown",
   "metadata": {},
   "source": [
    "### Finding the lenght of the list"
   ]
  },
  {
   "cell_type": "markdown",
   "metadata": {},
   "source": [
    "You can quickly find the length of a list by using the len() function. Look below on how its used:"
   ]
  },
  {
   "cell_type": "code",
   "execution_count": 40,
   "metadata": {},
   "outputs": [
    {
     "name": "stdout",
     "output_type": "stream",
     "text": [
      "8\n"
     ]
    }
   ],
   "source": [
    "#list of students in a class\n",
    "students = [\"johnny\", \"sara\", \"kavin\", \"nick\", \"david\", \"albert\", \"tyrone\", \"gunther\"]\n",
    "\n",
    "#displays len of list\n",
    "print(len(students))"
   ]
  },
  {
   "cell_type": "markdown",
   "metadata": {},
   "source": [
    "<div class=\"alert alert-block alert-success\">\n",
    "<b>Practice: </b>  Think of something you could store in a list. For example,\n",
    "you could make a list of mountains, rivers, countries, cities, languages, or anything else you’d like. Write a program that creates a list containing these items\n",
    "and then uses each function introduced in this chapter at least once\n",
    "</div> "
   ]
  },
  {
   "cell_type": "code",
   "execution_count": 2,
   "metadata": {},
   "outputs": [],
   "source": [
    "#your list\n",
    "\n",
    "\n",
    "#methods\n",
    "\n",
    "\n",
    "\n",
    "\n"
   ]
  }
 ],
 "metadata": {
  "kernelspec": {
   "display_name": "Python 3",
   "language": "python",
   "name": "python3"
  },
  "language_info": {
   "codemirror_mode": {
    "name": "ipython",
    "version": 3
   },
   "file_extension": ".py",
   "mimetype": "text/x-python",
   "name": "python",
   "nbconvert_exporter": "python",
   "pygments_lexer": "ipython3",
   "version": "3.7.4"
  }
 },
 "nbformat": 4,
 "nbformat_minor": 2
}
